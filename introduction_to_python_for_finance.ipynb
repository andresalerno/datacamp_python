{
  "nbformat": 4,
  "nbformat_minor": 0,
  "metadata": {
    "colab": {
      "name": "introduction_to_python_for_finance.ipynb",
      "provenance": [],
      "collapsed_sections": [],
      "toc_visible": true,
      "authorship_tag": "ABX9TyPkHMRBbjGKtR6XUHSPxJhq",
      "include_colab_link": true
    },
    "kernelspec": {
      "name": "python3",
      "display_name": "Python 3"
    }
  },
  "cells": [
    {
      "cell_type": "markdown",
      "metadata": {
        "id": "view-in-github",
        "colab_type": "text"
      },
      "source": [
        "<a href=\"https://colab.research.google.com/github/andresalerno/datacamp_python/blob/main/introduction_to_python_for_finance.ipynb\" target=\"_parent\"><img src=\"https://colab.research.google.com/assets/colab-badge.svg\" alt=\"Open In Colab\"/></a>"
      ]
    },
    {
      "cell_type": "markdown",
      "metadata": {
        "id": "g-yTzMshrQQh"
      },
      "source": [
        "# Introduction to Python for Finance\r\n",
        "\r\n",
        "## 1) Welcome to Python\r\n",
        "\r\n",
        "### 1.1) Run code vs. submit answer"
      ]
    },
    {
      "cell_type": "code",
      "metadata": {
        "colab": {
          "base_uri": "https://localhost:8080/"
        },
        "id": "sVfD9YH7rPYj",
        "outputId": "44051277-ddb3-40f0-868e-bab9c0f06b19"
      },
      "source": [
        "# Example 1, do not modify!\r\n",
        "print(8 / 2)\r\n",
        "\r\n",
        "# Example 2, do not modify!\r\n",
        "print(2**2)"
      ],
      "execution_count": 3,
      "outputs": [
        {
          "output_type": "stream",
          "text": [
            "4.0\n",
            "4\n"
          ],
          "name": "stdout"
        }
      ]
    },
    {
      "cell_type": "markdown",
      "metadata": {
        "id": "v4mYtl53sjQM"
      },
      "source": [
        "### 1.2) Printing output\r\n"
      ]
    },
    {
      "cell_type": "code",
      "metadata": {
        "colab": {
          "base_uri": "https://localhost:8080/"
        },
        "id": "2Q-7yGLWsqCa",
        "outputId": "ed7adee7-7f15-4111-9b9c-dcba23a100d8"
      },
      "source": [
        "print(10 * 2)"
      ],
      "execution_count": 4,
      "outputs": [
        {
          "output_type": "stream",
          "text": [
            "20\n"
          ],
          "name": "stdout"
        }
      ]
    },
    {
      "cell_type": "markdown",
      "metadata": {
        "id": "8gLJxw6Us4o9"
      },
      "source": [
        "### 1.3) Finding the average revenue"
      ]
    },
    {
      "cell_type": "code",
      "metadata": {
        "colab": {
          "base_uri": "https://localhost:8080/"
        },
        "id": "pih3ZRLIs9-L",
        "outputId": "5de11989-9b28-48e0-db71-c094bd46d829"
      },
      "source": [
        "revenue_1 = 229.23\r\n",
        "revenue_2 = 177.86\r\n",
        "revenue_3 = 89.95\r\n",
        "\r\n",
        "# Print the total revenue\r\n",
        "total = revenue_1 + revenue_2 + revenue_3\r\n",
        "print(total)\r\n",
        "\r\n",
        "# Print the average revenue\r\n",
        "average = total / 3\r\n",
        "print(average)"
      ],
      "execution_count": 5,
      "outputs": [
        {
          "output_type": "stream",
          "text": [
            "497.04\n",
            "165.68\n"
          ],
          "name": "stdout"
        }
      ]
    },
    {
      "cell_type": "markdown",
      "metadata": {
        "id": "T8O906dtwlOk"
      },
      "source": [
        "### 1.4) Creating variables"
      ]
    },
    {
      "cell_type": "code",
      "metadata": {
        "colab": {
          "base_uri": "https://localhost:8080/"
        },
        "id": "klv--ybSwokA",
        "outputId": "8fe707be-37b7-4178-9679-61c24ad9366c"
      },
      "source": [
        "# Create company_1\r\n",
        "company_1 = 'Apple'\r\n",
        "print(company_1)"
      ],
      "execution_count": 6,
      "outputs": [
        {
          "output_type": "stream",
          "text": [
            "Apple\n"
          ],
          "name": "stdout"
        }
      ]
    },
    {
      "cell_type": "code",
      "metadata": {
        "colab": {
          "base_uri": "https://localhost:8080/"
        },
        "id": "eW-d36m4wzv1",
        "outputId": "4e89a6ab-482f-4b6b-ec97-6b4780e06da5"
      },
      "source": [
        "# Create year_1\r\n",
        "year_1 = 2017\r\n",
        "print(year_1)"
      ],
      "execution_count": 7,
      "outputs": [
        {
          "output_type": "stream",
          "text": [
            "2017\n"
          ],
          "name": "stdout"
        }
      ]
    },
    {
      "cell_type": "code",
      "metadata": {
        "colab": {
          "base_uri": "https://localhost:8080/"
        },
        "id": "CL0RHzdBw42s",
        "outputId": "0d8f535c-91d6-4d6b-ab9f-0bab00d43f94"
      },
      "source": [
        "# Create revenue_1\r\n",
        "revenue_1 = 229.23\r\n",
        "print(revenue_1)"
      ],
      "execution_count": 8,
      "outputs": [
        {
          "output_type": "stream",
          "text": [
            "229.23\n"
          ],
          "name": "stdout"
        }
      ]
    },
    {
      "cell_type": "code",
      "metadata": {
        "colab": {
          "base_uri": "https://localhost:8080/"
        },
        "id": "WxtnF-zdxFXA",
        "outputId": "1be3fe72-2b29-43a7-d59d-0ac5895bd041"
      },
      "source": [
        "# Type of company_1\r\n",
        "print(type(company_1))\r\n",
        "\r\n",
        "# Type of year_1\r\n",
        "print(type(year_1))\r\n",
        "\r\n",
        "# Type of revenue_1\r\n",
        "print(type(revenue_1))"
      ],
      "execution_count": 9,
      "outputs": [
        {
          "output_type": "stream",
          "text": [
            "<class 'str'>\n",
            "<class 'int'>\n",
            "<class 'float'>\n"
          ],
          "name": "stdout"
        }
      ]
    },
    {
      "cell_type": "markdown",
      "metadata": {
        "id": "bBC0hO45xIVo"
      },
      "source": [
        "### 1.5) Booleans in Pyhton"
      ]
    },
    {
      "cell_type": "code",
      "metadata": {
        "colab": {
          "base_uri": "https://localhost:8080/"
        },
        "id": "paVmbtNtxL2-",
        "outputId": "530a4127-14ed-46f3-bfb2-c5aedccf2972"
      },
      "source": [
        "# Test equality\r\n",
        "test_company = 'apple'\r\n",
        "print(company_1 == test_company)"
      ],
      "execution_count": 10,
      "outputs": [
        {
          "output_type": "stream",
          "text": [
            "False\n"
          ],
          "name": "stdout"
        }
      ]
    },
    {
      "cell_type": "code",
      "metadata": {
        "colab": {
          "base_uri": "https://localhost:8080/"
        },
        "id": "VAJw2o6axX4L",
        "outputId": "5bc98bf7-c390-4fed-cce9-1b28ee3a4460"
      },
      "source": [
        "# Compare revenue_1 and revenue_2\r\n",
        "print(revenue_1 == revenue_2)"
      ],
      "execution_count": 11,
      "outputs": [
        {
          "output_type": "stream",
          "text": [
            "False\n"
          ],
          "name": "stdout"
        }
      ]
    },
    {
      "cell_type": "code",
      "metadata": {
        "colab": {
          "base_uri": "https://localhost:8080/"
        },
        "id": "X8YCYHCUxd6Y",
        "outputId": "1898d97f-3edc-4116-f443-3c97af39e58d"
      },
      "source": [
        "# Compare revenue_1 and revenue_2\r\n",
        "print(revenue_1 > revenue_2)"
      ],
      "execution_count": 12,
      "outputs": [
        {
          "output_type": "stream",
          "text": [
            "True\n"
          ],
          "name": "stdout"
        }
      ]
    },
    {
      "cell_type": "markdown",
      "metadata": {
        "id": "OYsO0UBjxkS9"
      },
      "source": [
        "### 1.6) Combining data types"
      ]
    },
    {
      "cell_type": "code",
      "metadata": {
        "colab": {
          "base_uri": "https://localhost:8080/"
        },
        "id": "SydObV-3xpQG",
        "outputId": "866c6334-ba69-45d2-d427-1dc07f978e97"
      },
      "source": [
        "# Update data types\r\n",
        "year_1_str = str(year_1)\r\n",
        "revenue_1_str = str(revenue_1)\r\n",
        "\r\n",
        "# Create a complete sentence combining only the string data types\r\n",
        "sentence = 'The revenue of ' + company_1 + ' in ' + year_1_str + ' was $' + revenue_1_str + ' billion.'\r\n",
        "\r\n",
        "# Print sentence\r\n",
        "print(sentence)"
      ],
      "execution_count": 13,
      "outputs": [
        {
          "output_type": "stream",
          "text": [
            "The revenue of Apple in 2017 was $229.23 billion.\n"
          ],
          "name": "stdout"
        }
      ]
    },
    {
      "cell_type": "markdown",
      "metadata": {
        "id": "JWTWE4n89khz"
      },
      "source": [
        "## 2) Lists\r\n",
        "\r\n",
        "### 2.1) Creating lists in Python"
      ]
    },
    {
      "cell_type": "code",
      "metadata": {
        "colab": {
          "base_uri": "https://localhost:8080/"
        },
        "id": "VyFF1JBT9ryb",
        "outputId": "e5647406-bcb9-4a75-fd66-c82f8f2cf8d7"
      },
      "source": [
        "# Create and print list names\r\n",
        "names = ['Apple Inc', 'Coca-Cola', 'Walmart']\r\n",
        "print(names)\r\n",
        "\r\n",
        "# Create and print list prices\r\n",
        "prices = [159.54, 37.13, 71.17]\r\n",
        "print(prices)"
      ],
      "execution_count": 14,
      "outputs": [
        {
          "output_type": "stream",
          "text": [
            "['Apple Inc', 'Coca-Cola', 'Walmart']\n",
            "[159.54, 37.13, 71.17]\n"
          ],
          "name": "stdout"
        }
      ]
    },
    {
      "cell_type": "markdown",
      "metadata": {
        "id": "aLyCcv92-BcU"
      },
      "source": [
        "### 2.2) Indexing list items"
      ]
    },
    {
      "cell_type": "code",
      "metadata": {
        "colab": {
          "base_uri": "https://localhost:8080/"
        },
        "id": "2eCcucFQ-FQ_",
        "outputId": "7f227262-df4b-4746-8f2c-b48211d75562"
      },
      "source": [
        "# Print the first item in names\r\n",
        "print(names[0])\r\n",
        "\r\n",
        "# Print the second item in names\r\n",
        "print(names[1])\r\n",
        "\r\n",
        "# Print the last element in prices\r\n",
        "print(prices[-1])"
      ],
      "execution_count": 15,
      "outputs": [
        {
          "output_type": "stream",
          "text": [
            "Apple Inc\n",
            "Coca-Cola\n",
            "71.17\n"
          ],
          "name": "stdout"
        }
      ]
    },
    {
      "cell_type": "markdown",
      "metadata": {
        "id": "x4OQiihN_SUd"
      },
      "source": [
        "### 2.3) Slicing multiple list elements"
      ]
    },
    {
      "cell_type": "code",
      "metadata": {
        "colab": {
          "base_uri": "https://localhost:8080/"
        },
        "id": "nhjGyK39_WQ4",
        "outputId": "1d8a6e3b-110d-4b75-964a-0c00def25397"
      },
      "source": [
        "# prices\r\n",
        "prices = [159.54, 37.13, 71.17]\r\n",
        "\r\n",
        "# Use extended slicing on the list prices\r\n",
        "prices_subset = prices[:-1]\r\n",
        "print(prices_subset)"
      ],
      "execution_count": 16,
      "outputs": [
        {
          "output_type": "stream",
          "text": [
            "[159.54, 37.13]\n"
          ],
          "name": "stdout"
        }
      ]
    },
    {
      "cell_type": "markdown",
      "metadata": {
        "id": "D2ka_TmjOdJ6"
      },
      "source": [
        "### 2.4) Stock up a nested list"
      ]
    },
    {
      "cell_type": "code",
      "metadata": {
        "colab": {
          "base_uri": "https://localhost:8080/"
        },
        "id": "tQlwuhj9Og_V",
        "outputId": "9b91ca52-915e-4178-a83e-f87550b3ae01"
      },
      "source": [
        "# Create and print the nested list stocks\r\n",
        "stocks = [names, prices]\r\n",
        "print(stocks)\r\n",
        "\r\n",
        "# Use list indexing to obtain the list of prices\r\n",
        "print(stocks[1])"
      ],
      "execution_count": 17,
      "outputs": [
        {
          "output_type": "stream",
          "text": [
            "[['Apple Inc', 'Coca-Cola', 'Walmart'], [159.54, 37.13, 71.17]]\n",
            "[159.54, 37.13, 71.17]\n"
          ],
          "name": "stdout"
        }
      ]
    },
    {
      "cell_type": "markdown",
      "metadata": {
        "id": "qTcNgFQNPhe9"
      },
      "source": [
        "### 2.5) Subset a nested list"
      ]
    },
    {
      "cell_type": "code",
      "metadata": {
        "colab": {
          "base_uri": "https://localhost:8080/"
        },
        "id": "5524LgtLPpXa",
        "outputId": "cb38df26-39ea-434f-eca9-c336c88caf7a"
      },
      "source": [
        "# Use indexing to obtain company name Coca-Cola\r\n",
        "print(stocks[0][1])\r\n",
        "\r\n",
        "# Use indexing to obtain 71.17\r\n",
        "print(stocks[1][2])"
      ],
      "execution_count": 18,
      "outputs": [
        {
          "output_type": "stream",
          "text": [
            "Coca-Cola\n",
            "71.17\n"
          ],
          "name": "stdout"
        }
      ]
    },
    {
      "cell_type": "markdown",
      "metadata": {
        "id": "666KE_39Qh-H"
      },
      "source": [
        "### 2.6) Exploring list methods and functions"
      ]
    },
    {
      "cell_type": "code",
      "metadata": {
        "colab": {
          "base_uri": "https://localhost:8080/"
        },
        "id": "J62F256lQmr1",
        "outputId": "7aca26ac-c2ac-472a-a4e8-bdc5b40379d9"
      },
      "source": [
        "# Print the sorted list prices\r\n",
        "prices = [159.54, 37.13, 71.17]\r\n",
        "prices.sort()\r\n",
        "print(prices)"
      ],
      "execution_count": 19,
      "outputs": [
        {
          "output_type": "stream",
          "text": [
            "[37.13, 71.17, 159.54]\n"
          ],
          "name": "stdout"
        }
      ]
    },
    {
      "cell_type": "code",
      "metadata": {
        "colab": {
          "base_uri": "https://localhost:8080/"
        },
        "id": "df_piAsnQ4YD",
        "outputId": "7d5c2aaf-05f4-4842-c3e6-c5fea01ed617"
      },
      "source": [
        "# Find the maximum price in the list price\r\n",
        "prices = [159.54, 37.13, 71.17]\r\n",
        "price_max = max(prices)\r\n",
        "print(price_max)"
      ],
      "execution_count": 20,
      "outputs": [
        {
          "output_type": "stream",
          "text": [
            "159.54\n"
          ],
          "name": "stdout"
        }
      ]
    },
    {
      "cell_type": "markdown",
      "metadata": {
        "id": "tM6y4PfvRJhn"
      },
      "source": [
        "### 2.7) Using list methods to add data"
      ]
    },
    {
      "cell_type": "code",
      "metadata": {
        "colab": {
          "base_uri": "https://localhost:8080/"
        },
        "id": "_fWhmoF5RNr2",
        "outputId": "5fa4cdcc-0b03-4bc7-e204-a2d4e94c0423"
      },
      "source": [
        "# Append a name to the list names\r\n",
        "names.append('Amazon.com')\r\n",
        "print(names)\r\n",
        "\r\n",
        "# Extend list names\r\n",
        "more_elements = ['DowDuPont', 'Alphabet Inc']\r\n",
        "names.extend(more_elements)\r\n",
        "print(names)"
      ],
      "execution_count": 21,
      "outputs": [
        {
          "output_type": "stream",
          "text": [
            "['Apple Inc', 'Coca-Cola', 'Walmart', 'Amazon.com']\n",
            "['Apple Inc', 'Coca-Cola', 'Walmart', 'Amazon.com', 'DowDuPont', 'Alphabet Inc']\n"
          ],
          "name": "stdout"
        }
      ]
    },
    {
      "cell_type": "markdown",
      "metadata": {
        "id": "9O3UkSeZRiki"
      },
      "source": [
        "### 2.8) Finding stock with maximum price"
      ]
    },
    {
      "cell_type": "code",
      "metadata": {
        "colab": {
          "base_uri": "https://localhost:8080/"
        },
        "id": "6nM_K8DlRnER",
        "outputId": "f8c7fdce-ffc0-49a5-d57b-32c96d9d858d"
      },
      "source": [
        "# Do not modify this\r\n",
        "max_price = max(prices)\r\n",
        "\r\n",
        "# Identify index of max price\r\n",
        "max_index = prices.index(max_price)\r\n",
        "\r\n",
        "# Identify the name of the company with max price\r\n",
        "max_stock_name = names[max_index]\r\n",
        "\r\n",
        "# Fill in the blanks \r\n",
        "print('The largest stock price is associated with ' + max_stock_name + ' and is $' + str(max_price) + '.')"
      ],
      "execution_count": 22,
      "outputs": [
        {
          "output_type": "stream",
          "text": [
            "The largest stock price is associated with Apple Inc and is $159.54.\n"
          ],
          "name": "stdout"
        }
      ]
    },
    {
      "cell_type": "markdown",
      "metadata": {
        "id": "rfQw36wKDR-2"
      },
      "source": [
        "## 3) Array in Python\r\n",
        "\r\n",
        "### 3.1) Create an array"
      ]
    },
    {
      "cell_type": "code",
      "metadata": {
        "colab": {
          "base_uri": "https://localhost:8080/"
        },
        "id": "kWDzB1i2DYIq",
        "outputId": "a040edba-4364-4cb2-e7b7-d88ecc843764"
      },
      "source": [
        "# Import numpy as np\r\n",
        "import numpy as np\r\n",
        "\r\n",
        "# Lists\r\n",
        "prices = [170.12, 93.29, 55.28, 145.30, 171.81, 59.50, 100.50]\r\n",
        "earnings = [9.2, 5.31, 2.41, 5.91, 15.42, 2.51, 6.79]\r\n",
        "\r\n",
        "# NumPy arrays\r\n",
        "prices_array = np.array(prices)\r\n",
        "earnings_array = np.array(earnings)\r\n",
        "\r\n",
        "# Print the arrays\r\n",
        "print(prices_array)\r\n",
        "print(earnings_array)\r\n",
        "\r\n",
        "type(prices_array)"
      ],
      "execution_count": 2,
      "outputs": [
        {
          "output_type": "stream",
          "text": [
            "[170.12  93.29  55.28 145.3  171.81  59.5  100.5 ]\n",
            "[ 9.2   5.31  2.41  5.91 15.42  2.51  6.79]\n"
          ],
          "name": "stdout"
        },
        {
          "output_type": "execute_result",
          "data": {
            "text/plain": [
              "numpy.ndarray"
            ]
          },
          "metadata": {
            "tags": []
          },
          "execution_count": 2
        }
      ]
    },
    {
      "cell_type": "markdown",
      "metadata": {
        "id": "Gq2fg6BjD0UO"
      },
      "source": [
        "### 3.2) Elementwise operations on arrays"
      ]
    },
    {
      "cell_type": "code",
      "metadata": {
        "colab": {
          "base_uri": "https://localhost:8080/"
        },
        "id": "7lpHBjQZD5G6",
        "outputId": "c113b059-81c1-4547-f5fb-08e6bd62985a"
      },
      "source": [
        "# Import numpy as np\r\n",
        "import numpy as np\r\n",
        "\r\n",
        "# Create PE ratio array\r\n",
        "pe_array = prices_array / earnings_array\r\n",
        "\r\n",
        "# Print pe_array\r\n",
        "print(pe_array)"
      ],
      "execution_count": 3,
      "outputs": [
        {
          "output_type": "stream",
          "text": [
            "[18.49130435 17.56873823 22.93775934 24.58544839 11.14202335 23.70517928\n",
            " 14.8011782 ]\n"
          ],
          "name": "stdout"
        }
      ]
    },
    {
      "cell_type": "markdown",
      "metadata": {
        "id": "-_LZ0glLEP9X"
      },
      "source": [
        "### 3.3) Subsetting elements from an array"
      ]
    },
    {
      "cell_type": "code",
      "metadata": {
        "colab": {
          "base_uri": "https://localhost:8080/"
        },
        "id": "Y5n9_dVlEVML",
        "outputId": "3c18831e-160e-4b31-ea9a-22c640e5cef4"
      },
      "source": [
        "# Subset the first three elements\r\n",
        "prices_subset_1 = prices_array[0:3]\r\n",
        "print(prices_subset_1)"
      ],
      "execution_count": 4,
      "outputs": [
        {
          "output_type": "stream",
          "text": [
            "[170.12  93.29  55.28]\n"
          ],
          "name": "stdout"
        }
      ]
    },
    {
      "cell_type": "code",
      "metadata": {
        "colab": {
          "base_uri": "https://localhost:8080/"
        },
        "id": "gsKVWij6EldW",
        "outputId": "2807ba00-8c8e-4836-ef3f-90eb5d362b4c"
      },
      "source": [
        "# Subset last three elements \r\n",
        "prices_subset_2 = prices_array[-3:]\r\n",
        "print(prices_subset_2)"
      ],
      "execution_count": 5,
      "outputs": [
        {
          "output_type": "stream",
          "text": [
            "[171.81  59.5  100.5 ]\n"
          ],
          "name": "stdout"
        }
      ]
    },
    {
      "cell_type": "code",
      "metadata": {
        "colab": {
          "base_uri": "https://localhost:8080/"
        },
        "id": "0yCtq1CKEp72",
        "outputId": "49e52ac0-e815-4b7b-dba7-9d16fb472453"
      },
      "source": [
        "# Subset every third element\r\n",
        "prices_subset_3 = prices_array[0:7:3]\r\n",
        "print(prices_subset_3)"
      ],
      "execution_count": 6,
      "outputs": [
        {
          "output_type": "stream",
          "text": [
            "[170.12 145.3  100.5 ]\n"
          ],
          "name": "stdout"
        }
      ]
    },
    {
      "cell_type": "markdown",
      "metadata": {
        "id": "wLrkEsKxFsUN"
      },
      "source": [
        "### 3.4) Creating a 2D array"
      ]
    },
    {
      "cell_type": "code",
      "metadata": {
        "colab": {
          "base_uri": "https://localhost:8080/"
        },
        "id": "zA8rjYEgFxSI",
        "outputId": "b5d821dd-f0d4-435c-da93-e09f97975b4b"
      },
      "source": [
        "# Create a 2D array of prices and earnings\r\n",
        "stock_array = np.array([prices, earnings])\r\n",
        "print(stock_array)\r\n",
        "\r\n",
        "# Print the shape of stock_array\r\n",
        "print(stock_array.shape)\r\n",
        "\r\n",
        "# Print the size of stock_array\r\n",
        "print(stock_array.size)"
      ],
      "execution_count": 7,
      "outputs": [
        {
          "output_type": "stream",
          "text": [
            "[[170.12  93.29  55.28 145.3  171.81  59.5  100.5 ]\n",
            " [  9.2    5.31   2.41   5.91  15.42   2.51   6.79]]\n",
            "(2, 7)\n",
            "14\n"
          ],
          "name": "stdout"
        }
      ]
    },
    {
      "cell_type": "code",
      "metadata": {
        "colab": {
          "base_uri": "https://localhost:8080/"
        },
        "id": "aMWA963TGUiF",
        "outputId": "56846667-6388-423b-de20-86f5a224e60f"
      },
      "source": [
        "# Transpose stock_array\r\n",
        "stock_array_transposed = np.transpose(stock_array)\r\n",
        "print(stock_array_transposed)\r\n",
        "\r\n",
        "# Print the shape of stock_array\r\n",
        "print(stock_array_transposed.shape)\r\n",
        "\r\n",
        "# Print the size of stock_array\r\n",
        "print(stock_array_transposed.size)"
      ],
      "execution_count": 8,
      "outputs": [
        {
          "output_type": "stream",
          "text": [
            "[[170.12   9.2 ]\n",
            " [ 93.29   5.31]\n",
            " [ 55.28   2.41]\n",
            " [145.3    5.91]\n",
            " [171.81  15.42]\n",
            " [ 59.5    2.51]\n",
            " [100.5    6.79]]\n",
            "(7, 2)\n",
            "14\n"
          ],
          "name": "stdout"
        }
      ]
    },
    {
      "cell_type": "markdown",
      "metadata": {
        "id": "Z6WMSYhGGa8l"
      },
      "source": [
        "### 3.5) Subsetting 2D arrays"
      ]
    },
    {
      "cell_type": "code",
      "metadata": {
        "colab": {
          "base_uri": "https://localhost:8080/"
        },
        "id": "X4tJNmfpGfVl",
        "outputId": "848efa86-652f-4e3f-d15f-cc9ac0afe062"
      },
      "source": [
        "# Subset prices from stock_array_transposed\r\n",
        "prices = stock_array_transposed[:, 0]\r\n",
        "print(prices)"
      ],
      "execution_count": 9,
      "outputs": [
        {
          "output_type": "stream",
          "text": [
            "[170.12  93.29  55.28 145.3  171.81  59.5  100.5 ]\n"
          ],
          "name": "stdout"
        }
      ]
    },
    {
      "cell_type": "code",
      "metadata": {
        "colab": {
          "base_uri": "https://localhost:8080/"
        },
        "id": "Vn9j7rvIG3rx",
        "outputId": "7c751225-98e7-4269-e180-86bed6870087"
      },
      "source": [
        "# Subset earnings from stock_array_transposed\r\n",
        "earnings = stock_array_transposed[:, 1]\r\n",
        "print(earnings)"
      ],
      "execution_count": 10,
      "outputs": [
        {
          "output_type": "stream",
          "text": [
            "[ 9.2   5.31  2.41  5.91 15.42  2.51  6.79]\n"
          ],
          "name": "stdout"
        }
      ]
    },
    {
      "cell_type": "code",
      "metadata": {
        "colab": {
          "base_uri": "https://localhost:8080/"
        },
        "id": "G98qLwvxG6nc",
        "outputId": "4e87ae8c-a23e-41a9-ec23-eac05d8e4710"
      },
      "source": [
        "# Subset the price and earning for first company\r\n",
        "company_1 = stock_array_transposed[0, :]\r\n",
        "print(company_1)"
      ],
      "execution_count": 11,
      "outputs": [
        {
          "output_type": "stream",
          "text": [
            "[170.12   9.2 ]\n"
          ],
          "name": "stdout"
        }
      ]
    },
    {
      "cell_type": "markdown",
      "metadata": {
        "id": "SU3wuqmmHKf6"
      },
      "source": [
        "### 3.6) Calculating array stats"
      ]
    },
    {
      "cell_type": "code",
      "metadata": {
        "colab": {
          "base_uri": "https://localhost:8080/"
        },
        "id": "agHd7r3BHN_J",
        "outputId": "470a0ff2-a0f3-46d1-a288-cb9c163c6d6c"
      },
      "source": [
        "# Calculate the mean \r\n",
        "prices_mean = np.mean(prices)\r\n",
        "print(prices_mean)"
      ],
      "execution_count": 12,
      "outputs": [
        {
          "output_type": "stream",
          "text": [
            "113.6857142857143\n"
          ],
          "name": "stdout"
        }
      ]
    },
    {
      "cell_type": "code",
      "metadata": {
        "colab": {
          "base_uri": "https://localhost:8080/"
        },
        "id": "5WLA4BsKHa-6",
        "outputId": "4e2c87d9-15f9-43ae-a2e4-6387b90de234"
      },
      "source": [
        "# Calculate the standard deviation \r\n",
        "prices_std = np.std(prices)\r\n",
        "print(prices_std)"
      ],
      "execution_count": 13,
      "outputs": [
        {
          "output_type": "stream",
          "text": [
            "45.51277932221513\n"
          ],
          "name": "stdout"
        }
      ]
    },
    {
      "cell_type": "markdown",
      "metadata": {
        "id": "CamJEzISHeh4"
      },
      "source": [
        "### 3.7) Generating a sequence of numbers"
      ]
    },
    {
      "cell_type": "code",
      "metadata": {
        "colab": {
          "base_uri": "https://localhost:8080/"
        },
        "id": "VUjixtZmHiQM",
        "outputId": "2cb4bd0b-66ad-4aea-ad54-b18f21226025"
      },
      "source": [
        "# Create and print company IDs\r\n",
        "company_ids = np.arange(1, 8, 1)\r\n",
        "print(company_ids)\r\n",
        "\r\n",
        "# Use array slicing to select specific company IDs\r\n",
        "company_ids_odd = np.arange(1, 8, 2)\r\n",
        "print(company_ids_odd)"
      ],
      "execution_count": 14,
      "outputs": [
        {
          "output_type": "stream",
          "text": [
            "[1 2 3 4 5 6 7]\n",
            "[1 3 5 7]\n"
          ],
          "name": "stdout"
        }
      ]
    },
    {
      "cell_type": "markdown",
      "metadata": {
        "id": "vZ21DFKxIgWP"
      },
      "source": [
        "### 3.8) Who is above average?"
      ]
    },
    {
      "cell_type": "code",
      "metadata": {
        "colab": {
          "base_uri": "https://localhost:8080/"
        },
        "id": "ecC6DU4-IjaH",
        "outputId": "332a1907-ea71-4340-c7be-2290d7d65e07"
      },
      "source": [
        "# Find the mean\r\n",
        "price_mean = np.mean(prices)\r\n",
        "\r\n",
        "# Create boolean array\r\n",
        "boolean_array = (prices > price_mean)\r\n",
        "print(boolean_array)\r\n",
        "\r\n",
        "# Select prices that are greater than average\r\n",
        "above_avg = prices[boolean_array]\r\n",
        "print(above_avg)"
      ],
      "execution_count": 15,
      "outputs": [
        {
          "output_type": "stream",
          "text": [
            "[ True False False  True  True False False]\n",
            "[170.12 145.3  171.81]\n"
          ],
          "name": "stdout"
        }
      ]
    },
    {
      "cell_type": "markdown",
      "metadata": {
        "id": "FPWUcuLnJBxf"
      },
      "source": [
        "### 3.9) Who is in health care?"
      ]
    },
    {
      "cell_type": "code",
      "metadata": {
        "colab": {
          "base_uri": "https://localhost:8080/"
        },
        "id": "y8dEZSozJH9A",
        "outputId": "7d278f47-fdee-4a85-fb1b-246de9ef8477"
      },
      "source": [
        "name = np.array(['Apple Inc', 'Abbvie Inc', 'Abbott Laboratories', 'Accenture Technologies', 'Allergan Plc'])\r\n",
        "sectors = np.array(['Information Technology', 'Health Care', 'Health Care', 'Information Technologies', 'Health Care'])\r\n",
        "\r\n",
        "\r\n",
        "names = np.array([sectors, name])\r\n",
        "\r\n",
        "print(names)\r\n",
        "\r\n",
        "# Create boolean array\r\n",
        "boolean_array = (sectors == 'Health Care')\r\n",
        "print(boolean_array)\r\n",
        "\r\n",
        "# Print only health care companies\r\n",
        "health_care = name[boolean_array]\r\n",
        "print(health_care)"
      ],
      "execution_count": 27,
      "outputs": [
        {
          "output_type": "stream",
          "text": [
            "[['Information Technology' 'Health Care' 'Health Care'\n",
            "  'Information Technologies' 'Health Care']\n",
            " ['Apple Inc' 'Abbvie Inc' 'Abbott Laboratories' 'Accenture Technologies'\n",
            "  'Allergan Plc']]\n",
            "[False  True  True False  True]\n",
            "['Abbvie Inc' 'Abbott Laboratories' 'Allergan Plc']\n"
          ],
          "name": "stdout"
        }
      ]
    },
    {
      "cell_type": "markdown",
      "metadata": {
        "id": "GJHDmEeK4OdI"
      },
      "source": [
        "## 4) Visualization in Python\r\n",
        "\r\n",
        "### 4.1) Importing matplotlib and Pyplot"
      ]
    },
    {
      "cell_type": "code",
      "metadata": {
        "colab": {
          "base_uri": "https://localhost:8080/"
        },
        "id": "8cvtd80UAo7P",
        "outputId": "f475c63f-a3f0-4298-a421-00dad4bf45fb"
      },
      "source": [
        "prices = np.arange(201, 301, 0.1)\r\n",
        "\r\n",
        "prices.size"
      ],
      "execution_count": 32,
      "outputs": [
        {
          "output_type": "execute_result",
          "data": {
            "text/plain": [
              "1000"
            ]
          },
          "metadata": {
            "tags": []
          },
          "execution_count": 32
        }
      ]
    },
    {
      "cell_type": "code",
      "metadata": {
        "colab": {
          "base_uri": "https://localhost:8080/"
        },
        "id": "lDdRnmlxA2QL",
        "outputId": "579fd44f-198b-4947-8e77-66987e9a7674"
      },
      "source": [
        "days = np.array(range(1,1001))\r\n",
        "\r\n",
        "days.size"
      ],
      "execution_count": 33,
      "outputs": [
        {
          "output_type": "execute_result",
          "data": {
            "text/plain": [
              "1000"
            ]
          },
          "metadata": {
            "tags": []
          },
          "execution_count": 33
        }
      ]
    },
    {
      "cell_type": "code",
      "metadata": {
        "colab": {
          "base_uri": "https://localhost:8080/",
          "height": 265
        },
        "id": "FyNfqcKp4SU7",
        "outputId": "46262b94-bd62-4c4b-c4d8-8f9433b753dc"
      },
      "source": [
        "# Import matplotlib.pyplot with the alias plt\r\n",
        "import matplotlib.pyplot as plt\r\n",
        "\r\n",
        "# Plot the price of stock over time\r\n",
        "plt.plot(days, prices, color='red', linestyle='--', label=\"Teste\")\r\n",
        "plt.legend()\r\n",
        "# Display the plot\r\n",
        "plt.show()"
      ],
      "execution_count": 36,
      "outputs": [
        {
          "output_type": "display_data",
          "data": {
            "image/png": "[encoded data removed]",
            "text/plain": [
              "<Figure size 432x288 with 1 Axes>"
            ]
          },
          "metadata": {
            "tags": [],
            "needs_background": "light"
          }
        }
      ]
    },
    {
      "cell_type": "markdown",
      "metadata": {
        "id": "NZOxjnoHGJKc"
      },
      "source": [
        "### 4.2) Adding axis labels and titles"
      ]
    },
    {
      "cell_type": "code",
      "metadata": {
        "colab": {
          "base_uri": "https://localhost:8080/",
          "height": 295
        },
        "id": "ZdhX7_TyF8Ad",
        "outputId": "40123811-250f-4e1b-b1ea-3e8e7b64a573"
      },
      "source": [
        "import matplotlib.pyplot as plt\r\n",
        "\r\n",
        "# Plot price as a function of time\r\n",
        "plt.plot(days, prices, color=\"red\", linestyle=\"--\")\r\n",
        "\r\n",
        "# Add x and y labels\r\n",
        "plt.xlabel('Days')\r\n",
        "plt.ylabel('Prices, $')\r\n",
        "\r\n",
        "# Add plot title\r\n",
        "plt.title('Company Stock Prices Over Time')\r\n",
        "\r\n",
        "# Show plot\r\n",
        "plt.show()"
      ],
      "execution_count": 35,
      "outputs": [
        {
          "output_type": "display_data",
          "data": {
            "image/png": "[encoded data removed]",
            "text/plain": [
              "<Figure size 432x288 with 1 Axes>"
            ]
          },
          "metadata": {
            "tags": [],
            "needs_background": "light"
          }
        }
      ]
    },
    {
      "cell_type": "markdown",
      "metadata": {
        "id": "ParmFE-WGwrJ"
      },
      "source": [
        "### 5) S&P 100 Case Study"
      ]
    },
    {
      "cell_type": "code",
      "metadata": {
        "id": "pgEkD8MjG3Zu"
      },
      "source": [
        "from pydrive.auth import GoogleAuth\r\n",
        "from pydrive.drive import GoogleDrive\r\n",
        "from google.colab import auth\r\n",
        "from oauth2client.client import GoogleCredentials"
      ],
      "execution_count": 37,
      "outputs": []
    },
    {
      "cell_type": "code",
      "metadata": {
        "id": "VUB-XHsfYwXQ"
      },
      "source": [
        "auth.authenticate_user()\r\n",
        "gauth = GoogleAuth()\r\n",
        "gauth.credentials = GoogleCredentials.get_application_default()\r\n",
        "drive = GoogleDrive(gauth)"
      ],
      "execution_count": 38,
      "outputs": []
    },
    {
      "cell_type": "markdown",
      "metadata": {
        "id": "33ZWdGFLZG90"
      },
      "source": [
        "var url = \"your_shareable_link_to_file\"\r\n",
        "function getIdFromUrl(url) { return url.match(/[-\\w]{25,}/); }\r\n",
        "getIdFromUrl(url)"
      ]
    },
    {
      "cell_type": "code",
      "metadata": {
        "id": "3mvgSTpBY8xN"
      },
      "source": [
        "downloaded = drive.CreateFile({'id':\"1oxvWUassAE4Boj1kD8tTDOkNU5sU5Xkx\"})   # replace the id with id of file you want to access\r\n",
        "downloaded.GetContentFile('sector.csv')        # replace the file name with your file\r\n"
      ],
      "execution_count": 59,
      "outputs": []
    },
    {
      "cell_type": "code",
      "metadata": {
        "colab": {
          "base_uri": "https://localhost:8080/"
        },
        "id": "1nKDIAKAaHR4",
        "outputId": "e2d97efa-42ce-4ba8-db84-96ce004ca235"
      },
      "source": [
        "import pandas as pd\r\n",
        "sector = pd.read_csv('sector.csv', sep=\";\")\r\n",
        "sector.size\r\n",
        "sector.head"
      ],
      "execution_count": 63,
      "outputs": [
        {
          "output_type": "execute_result",
          "data": {
            "text/plain": [
              "<bound method NDFrame.head of                            Name                  Sector  Price   EPS\n",
              "0                     Apple Inc  Information Technology  17012    92\n",
              "1                    Abbvie Inc             Health Care   9329   531\n",
              "2           Abbott Laboratories             Health Care   5528   241\n",
              "3                 Accenture Plc  Information Technology   1453   591\n",
              "4                  Allergan Plc             Health Care  17181  1542\n",
              "..                          ...                     ...    ...   ...\n",
              "97   Verizon Communications Inc      Telecommunications   4585   375\n",
              "98     Walgreens Boots Alliance        Consumer Staples   7025    51\n",
              "99        Wells Fargo & Company              Financials   5402   414\n",
              "100             Wal-Mart Stores        Consumer Staples   9608   436\n",
              "101            Exxon Mobil Corp                  Energy   8031   356\n",
              "\n",
              "[102 rows x 4 columns]>"
            ]
          },
          "metadata": {
            "tags": []
          },
          "execution_count": 63
        }
      ]
    }
  ]
}