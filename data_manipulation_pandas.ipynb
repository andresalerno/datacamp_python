{
  "nbformat": 4,
  "nbformat_minor": 0,
  "metadata": {
    "colab": {
      "name": "data_manipulation_pandas.ipynb",
      "provenance": [],
      "collapsed_sections": [],
      "mount_file_id": "1J3DzXxQT9aigaxrvJuPD8eUtonZ6waXg",
      "authorship_tag": "ABX9TyPF+CN0ChNOu9xRB4fS4UQL",
      "include_colab_link": true
    },
    "kernelspec": {
      "name": "python3",
      "display_name": "Python 3"
    }
  },
  "cells": [
    {
      "cell_type": "markdown",
      "metadata": {
        "id": "view-in-github",
        "colab_type": "text"
      },
      "source": [
        "<a href=\"https://colab.research.google.com/github/andresalerno/datacamp_python/blob/main/data_manipulation_pandas.ipynb\" target=\"_parent\"><img src=\"https://colab.research.google.com/assets/colab-badge.svg\" alt=\"Open In Colab\"/></a>"
      ]
    },
    {
      "cell_type": "markdown",
      "metadata": {
        "id": "-Iw-SgZ6UMC0"
      },
      "source": [
        "## Chapter 1"
      ]
    },
    {
      "cell_type": "markdown",
      "metadata": {
        "id": "5g8s7Yl6U_ks"
      },
      "source": [
        "## 1.1) Setting up\n",
        "\n"
      ]
    },
    {
      "cell_type": "code",
      "metadata": {
        "colab": {
          "base_uri": "https://localhost:8080/"
        },
        "id": "LWj1lPOgZFRi",
        "outputId": "fe34ced7-eb53-4200-cc68-50e2e8cb17c1"
      },
      "source": [
        "!pip install PyDrive"
      ],
      "execution_count": 4,
      "outputs": [
        {
          "output_type": "stream",
          "text": [
            "Requirement already satisfied: PyDrive in /usr/local/lib/python3.6/dist-packages (1.3.1)\n",
            "Requirement already satisfied: google-api-python-client>=1.2 in /usr/local/lib/python3.6/dist-packages (from PyDrive) (1.7.12)\n",
            "Requirement already satisfied: PyYAML>=3.0 in /usr/local/lib/python3.6/dist-packages (from PyDrive) (3.13)\n",
            "Requirement already satisfied: oauth2client>=4.0.0 in /usr/local/lib/python3.6/dist-packages (from PyDrive) (4.1.3)\n",
            "Requirement already satisfied: six<2dev,>=1.6.1 in /usr/local/lib/python3.6/dist-packages (from google-api-python-client>=1.2->PyDrive) (1.15.0)\n",
            "Requirement already satisfied: uritemplate<4dev,>=3.0.0 in /usr/local/lib/python3.6/dist-packages (from google-api-python-client>=1.2->PyDrive) (3.0.1)\n",
            "Requirement already satisfied: google-auth>=1.4.1 in /usr/local/lib/python3.6/dist-packages (from google-api-python-client>=1.2->PyDrive) (1.17.2)\n",
            "Requirement already satisfied: google-auth-httplib2>=0.0.3 in /usr/local/lib/python3.6/dist-packages (from google-api-python-client>=1.2->PyDrive) (0.0.4)\n",
            "Requirement already satisfied: httplib2<1dev,>=0.17.0 in /usr/local/lib/python3.6/dist-packages (from google-api-python-client>=1.2->PyDrive) (0.17.4)\n",
            "Requirement already satisfied: rsa>=3.1.4 in /usr/local/lib/python3.6/dist-packages (from oauth2client>=4.0.0->PyDrive) (4.6)\n",
            "Requirement already satisfied: pyasn1>=0.1.7 in /usr/local/lib/python3.6/dist-packages (from oauth2client>=4.0.0->PyDrive) (0.4.8)\n",
            "Requirement already satisfied: pyasn1-modules>=0.0.5 in /usr/local/lib/python3.6/dist-packages (from oauth2client>=4.0.0->PyDrive) (0.2.8)\n",
            "Requirement already satisfied: cachetools<5.0,>=2.0.0 in /usr/local/lib/python3.6/dist-packages (from google-auth>=1.4.1->google-api-python-client>=1.2->PyDrive) (4.2.0)\n",
            "Requirement already satisfied: setuptools>=40.3.0 in /usr/local/lib/python3.6/dist-packages (from google-auth>=1.4.1->google-api-python-client>=1.2->PyDrive) (51.1.1)\n"
          ],
          "name": "stdout"
        }
      ]
    },
    {
      "cell_type": "code",
      "metadata": {
        "id": "yKXVMtbPV05h"
      },
      "source": [
        "from pydrive.auth import GoogleAuth\n",
        "from pydrive.drive import GoogleDrive\n",
        "from google.colab import auth\n",
        "from oauth2client.client import GoogleCredentials"
      ],
      "execution_count": 5,
      "outputs": []
    },
    {
      "cell_type": "code",
      "metadata": {
        "id": "ub7emtc5V6Lb"
      },
      "source": [
        "auth.authenticate_user()\n",
        "gauth = GoogleAuth()\n",
        "gauth.credentials = GoogleCredentials.get_application_default()\n",
        "drive = GoogleDrive(gauth)"
      ],
      "execution_count": 6,
      "outputs": []
    },
    {
      "cell_type": "code",
      "metadata": {
        "id": "4zI6z9qpWF3X"
      },
      "source": [
        "downloaded = drive.CreateFile({'id':\"1-Cd70bB4NKbeiLj_QzJ_l5sqWhbuoYN-\"})   # replace the id with id of file you want to access\n",
        "downloaded.GetContentFile('homelessness.csv')        # replace the file name with your file\n"
      ],
      "execution_count": 7,
      "outputs": []
    },
    {
      "cell_type": "code",
      "metadata": {
        "id": "FVfkLcTjULH3"
      },
      "source": [
        "import pandas as pd\n",
        "homelessness = pd.read_csv('homelessness.csv')"
      ],
      "execution_count": 8,
      "outputs": []
    },
    {
      "cell_type": "code",
      "metadata": {
        "colab": {
          "base_uri": "https://localhost:8080/",
          "height": 204
        },
        "id": "g8o143F_VOzN",
        "outputId": "232abd5c-dc7a-41d3-cdb4-a368e4c5d435"
      },
      "source": [
        "homelessness.head()"
      ],
      "execution_count": 9,
      "outputs": [
        {
          "output_type": "execute_result",
          "data": {
            "text/html": [
              "<div>\n",
              "<style scoped>\n",
              "    .dataframe tbody tr th:only-of-type {\n",
              "        vertical-align: middle;\n",
              "    }\n",
              "\n",
              "    .dataframe tbody tr th {\n",
              "        vertical-align: top;\n",
              "    }\n",
              "\n",
              "    .dataframe thead th {\n",
              "        text-align: right;\n",
              "    }\n",
              "</style>\n",
              "<table border=\"1\" class=\"dataframe\">\n",
              "  <thead>\n",
              "    <tr style=\"text-align: right;\">\n",
              "      <th></th>\n",
              "      <th>Unnamed: 0</th>\n",
              "      <th>region</th>\n",
              "      <th>state</th>\n",
              "      <th>individuals</th>\n",
              "      <th>family_members</th>\n",
              "      <th>state_pop</th>\n",
              "    </tr>\n",
              "  </thead>\n",
              "  <tbody>\n",
              "    <tr>\n",
              "      <th>0</th>\n",
              "      <td>0</td>\n",
              "      <td>East South Central</td>\n",
              "      <td>Alabama</td>\n",
              "      <td>2570.0</td>\n",
              "      <td>864.0</td>\n",
              "      <td>4887681</td>\n",
              "    </tr>\n",
              "    <tr>\n",
              "      <th>1</th>\n",
              "      <td>1</td>\n",
              "      <td>Pacific</td>\n",
              "      <td>Alaska</td>\n",
              "      <td>1434.0</td>\n",
              "      <td>582.0</td>\n",
              "      <td>735139</td>\n",
              "    </tr>\n",
              "    <tr>\n",
              "      <th>2</th>\n",
              "      <td>2</td>\n",
              "      <td>Mountain</td>\n",
              "      <td>Arizona</td>\n",
              "      <td>7259.0</td>\n",
              "      <td>2606.0</td>\n",
              "      <td>7158024</td>\n",
              "    </tr>\n",
              "    <tr>\n",
              "      <th>3</th>\n",
              "      <td>3</td>\n",
              "      <td>West South Central</td>\n",
              "      <td>Arkansas</td>\n",
              "      <td>2280.0</td>\n",
              "      <td>432.0</td>\n",
              "      <td>3009733</td>\n",
              "    </tr>\n",
              "    <tr>\n",
              "      <th>4</th>\n",
              "      <td>4</td>\n",
              "      <td>Pacific</td>\n",
              "      <td>California</td>\n",
              "      <td>109008.0</td>\n",
              "      <td>20964.0</td>\n",
              "      <td>39461588</td>\n",
              "    </tr>\n",
              "  </tbody>\n",
              "</table>\n",
              "</div>"
            ],
            "text/plain": [
              "   Unnamed: 0              region  ... family_members  state_pop\n",
              "0           0  East South Central  ...          864.0    4887681\n",
              "1           1             Pacific  ...          582.0     735139\n",
              "2           2            Mountain  ...         2606.0    7158024\n",
              "3           3  West South Central  ...          432.0    3009733\n",
              "4           4             Pacific  ...        20964.0   39461588\n",
              "\n",
              "[5 rows x 6 columns]"
            ]
          },
          "metadata": {
            "tags": []
          },
          "execution_count": 9
        }
      ]
    },
    {
      "cell_type": "markdown",
      "metadata": {
        "id": "927H4skLNUJ-"
      },
      "source": [
        "# Chapter 1"
      ]
    },
    {
      "cell_type": "code",
      "metadata": {
        "colab": {
          "base_uri": "https://localhost:8080/"
        },
        "id": "g9o9vw_whu2Z",
        "outputId": "05aa86a4-1261-45ed-fffb-b1a2b381a824"
      },
      "source": [
        "# Print the column index of homelessness\n",
        "print(homelessness.columns)"
      ],
      "execution_count": 10,
      "outputs": [
        {
          "output_type": "stream",
          "text": [
            "Index(['Unnamed: 0', 'region', 'state', 'individuals', 'family_members',\n",
            "       'state_pop'],\n",
            "      dtype='object')\n"
          ],
          "name": "stdout"
        }
      ]
    },
    {
      "cell_type": "code",
      "metadata": {
        "colab": {
          "base_uri": "https://localhost:8080/"
        },
        "id": "fdeu7E-Jhvxj",
        "outputId": "0e49fc5c-cab8-4ac5-b47e-6ed24c60397d"
      },
      "source": [
        "# Print the row index of homelessness\n",
        "print(homelessness.index)"
      ],
      "execution_count": 11,
      "outputs": [
        {
          "output_type": "stream",
          "text": [
            "RangeIndex(start=0, stop=51, step=1)\n"
          ],
          "name": "stdout"
        }
      ]
    },
    {
      "cell_type": "code",
      "metadata": {
        "colab": {
          "base_uri": "https://localhost:8080/"
        },
        "id": "T5OgG5ToiVuZ",
        "outputId": "4c77a3c7-f82c-4de8-dca3-c6acee8a7b51"
      },
      "source": [
        "print(homelessness.shape)"
      ],
      "execution_count": 12,
      "outputs": [
        {
          "output_type": "stream",
          "text": [
            "(51, 6)\n"
          ],
          "name": "stdout"
        }
      ]
    },
    {
      "cell_type": "code",
      "metadata": {
        "colab": {
          "base_uri": "https://localhost:8080/"
        },
        "id": "WX-TD9vOMPEi",
        "outputId": "5ad184e7-3fc4-4616-921b-9f8c9b9693d4"
      },
      "source": [
        "# Select the individuals column\r\n",
        "individuals = homelessness[\"individuals\"]\r\n",
        "\r\n",
        "# Print the head of the result\r\n",
        "print(individuals.head())"
      ],
      "execution_count": 13,
      "outputs": [
        {
          "output_type": "stream",
          "text": [
            "0      2570.0\n",
            "1      1434.0\n",
            "2      7259.0\n",
            "3      2280.0\n",
            "4    109008.0\n",
            "Name: individuals, dtype: float64\n"
          ],
          "name": "stdout"
        }
      ]
    },
    {
      "cell_type": "code",
      "metadata": {
        "colab": {
          "base_uri": "https://localhost:8080/"
        },
        "id": "v5XXPxOoMlQw",
        "outputId": "31ccc77d-32b6-42ad-a1c3-9919e5767bf4"
      },
      "source": [
        "# Filter for rows where individuals is greater than 10000\r\n",
        "ind_gt_10k = homelessness[homelessness[\"individuals\"] > 10000]\r\n",
        "\r\n",
        "# See the result\r\n",
        "print(ind_gt_10k)"
      ],
      "execution_count": 14,
      "outputs": [
        {
          "output_type": "stream",
          "text": [
            "    Unnamed: 0              region  ... family_members  state_pop\n",
            "4            4             Pacific  ...        20964.0   39461588\n",
            "9            9      South Atlantic  ...         9587.0   21244317\n",
            "32          32        Mid-Atlantic  ...        52070.0   19530351\n",
            "37          37             Pacific  ...         3337.0    4181886\n",
            "43          43  West South Central  ...         6111.0   28628666\n",
            "47          47             Pacific  ...         5880.0    7523869\n",
            "\n",
            "[6 rows x 6 columns]\n"
          ],
          "name": "stdout"
        }
      ]
    },
    {
      "cell_type": "code",
      "metadata": {
        "colab": {
          "base_uri": "https://localhost:8080/"
        },
        "id": "Q_R6IPY7M8Sr",
        "outputId": "a5d0eb43-208d-41cf-a036-bcbbdad0ff1d"
      },
      "source": [
        "# Add total col as sum of individuals and family_members\r\n",
        "homelessness['total'] = homelessness['individuals'] + homelessness['family_members']\r\n",
        "\r\n",
        "# Add p_individuals col as proportion of individuals\r\n",
        "homelessness['p_individuals'] = homelessness['individuals'] / homelessness['total']\r\n",
        "\r\n",
        "# See the result\r\n",
        "print(homelessness)\r\n"
      ],
      "execution_count": 15,
      "outputs": [
        {
          "output_type": "stream",
          "text": [
            "    Unnamed: 0              region  ...     total  p_individuals\n",
            "0            0  East South Central  ...    3434.0       0.748398\n",
            "1            1             Pacific  ...    2016.0       0.711310\n",
            "2            2            Mountain  ...    9865.0       0.735834\n",
            "3            3  West South Central  ...    2712.0       0.840708\n",
            "4            4             Pacific  ...  129972.0       0.838704\n",
            "5            5            Mountain  ...   10857.0       0.700654\n",
            "6            6         New England  ...    3976.0       0.573441\n",
            "7            7      South Atlantic  ...    1082.0       0.654344\n",
            "8            8      South Atlantic  ...    6904.0       0.546060\n",
            "9            9      South Atlantic  ...   31030.0       0.691041\n",
            "10          10      South Atlantic  ...    9499.0       0.730919\n",
            "11          11             Pacific  ...    6530.0       0.632619\n",
            "12          12            Mountain  ...    2012.0       0.644632\n",
            "13          13  East North Central  ...   10643.0       0.634408\n",
            "14          14  East North Central  ...    5258.0       0.718144\n",
            "15          15  West North Central  ...    2749.0       0.622408\n",
            "16          16  West North Central  ...    2216.0       0.651173\n",
            "17          17  East South Central  ...    3688.0       0.741594\n",
            "18          18  West South Central  ...    3059.0       0.830337\n",
            "19          19         New England  ...    2516.0       0.576312\n",
            "20          20      South Atlantic  ...    7144.0       0.687850\n",
            "21          21         New England  ...   20068.0       0.339396\n",
            "22          22  East North Central  ...    8351.0       0.623758\n",
            "23          23  West North Central  ...    7243.0       0.551291\n",
            "24          24  East South Central  ...    1352.0       0.757396\n",
            "25          25  West North Central  ...    5883.0       0.641849\n",
            "26          26            Mountain  ...    1405.0       0.699644\n",
            "27          27  West North Central  ...    2421.0       0.720777\n",
            "28          28            Mountain  ...    7544.0       0.935578\n",
            "29          29         New England  ...    1450.0       0.575862\n",
            "30          30        Mid-Atlantic  ...    9398.0       0.643541\n",
            "31          31            Mountain  ...    2551.0       0.764014\n",
            "32          32        Mid-Atlantic  ...   91897.0       0.433387\n",
            "33          33      South Atlantic  ...    9268.0       0.696051\n",
            "34          34  West North Central  ...     542.0       0.861624\n",
            "35          35  East North Central  ...   10249.0       0.676066\n",
            "36          36  West South Central  ...    3871.0       0.729269\n",
            "37          37             Pacific  ...   14476.0       0.769481\n",
            "38          38        Mid-Atlantic  ...   13512.0       0.604130\n",
            "39          39         New England  ...    1101.0       0.678474\n",
            "40          40      South Atlantic  ...    3933.0       0.783626\n",
            "41          41  West North Central  ...    1159.0       0.721311\n",
            "42          42  East South Central  ...    7883.0       0.778764\n",
            "43          43  West South Central  ...   25310.0       0.758554\n",
            "44          44            Mountain  ...    2876.0       0.662031\n",
            "45          45         New England  ...    1291.0       0.604183\n",
            "46          46      South Atlantic  ...    5975.0       0.657406\n",
            "47          47             Pacific  ...   22304.0       0.736370\n",
            "48          48      South Atlantic  ...    1243.0       0.821400\n",
            "49          49  East North Central  ...    4907.0       0.558386\n",
            "50          50            Mountain  ...     639.0       0.679186\n",
            "\n",
            "[51 rows x 8 columns]\n"
          ],
          "name": "stdout"
        }
      ]
    },
    {
      "cell_type": "markdown",
      "metadata": {
        "id": "7ipZQ7nKNd5K"
      },
      "source": [
        "# Chapter 2"
      ]
    },
    {
      "cell_type": "code",
      "metadata": {
        "id": "Mw7-e2jiNgJz"
      },
      "source": [
        "downloaded = drive.CreateFile({'id':\"1-Yb4vLGr1JIpGfxCf0snrWnXfi9D4YA8\"})   # replace the id with id of file you want to access\r\n",
        "downloaded.GetContentFile('sales.csv')        # replace the file name with your file"
      ],
      "execution_count": 16,
      "outputs": []
    },
    {
      "cell_type": "code",
      "metadata": {
        "id": "k4xrm5BSQIkB"
      },
      "source": [
        "import pandas as pd\r\n",
        "sales = pd.read_csv('sales.csv')"
      ],
      "execution_count": 17,
      "outputs": []
    },
    {
      "cell_type": "code",
      "metadata": {
        "colab": {
          "base_uri": "https://localhost:8080/"
        },
        "id": "9foV0nfwNgLj",
        "outputId": "1483a6e0-492c-471c-96c0-8df2c1469474"
      },
      "source": [
        "# Print the head of the sales DataFrame\r\n",
        "print(sales.head())\r\n",
        "\r\n",
        "# Print the info about the sales DataFrame\r\n",
        "print(sales.info())\r\n",
        "\r\n",
        "# Print the mean of weekly_sales\r\n",
        "print(sales[\"weekly_sales\"].mean())\r\n",
        "\r\n",
        "# Print the median of weekly_sales\r\n",
        "print(sales[\"weekly_sales\"].median())\r\n"
      ],
      "execution_count": 18,
      "outputs": [
        {
          "output_type": "stream",
          "text": [
            "   Unnamed: 0  store type  ...  temperature_c fuel_price_usd_per_l  unemployment\n",
            "0           0      1    A  ...       5.727778             0.679451         8.106\n",
            "1           1      1    A  ...       8.055556             0.693452         8.106\n",
            "2           2      1    A  ...      16.816667             0.718284         7.808\n",
            "3           3      1    A  ...      22.527778             0.748928         7.808\n",
            "4           4      1    A  ...      27.050000             0.714586         7.808\n",
            "\n",
            "[5 rows x 10 columns]\n",
            "<class 'pandas.core.frame.DataFrame'>\n",
            "RangeIndex: 10774 entries, 0 to 10773\n",
            "Data columns (total 10 columns):\n",
            " #   Column                Non-Null Count  Dtype  \n",
            "---  ------                --------------  -----  \n",
            " 0   Unnamed: 0            10774 non-null  int64  \n",
            " 1   store                 10774 non-null  int64  \n",
            " 2   type                  10774 non-null  object \n",
            " 3   department            10774 non-null  int64  \n",
            " 4   date                  10774 non-null  object \n",
            " 5   weekly_sales          10774 non-null  float64\n",
            " 6   is_holiday            10774 non-null  bool   \n",
            " 7   temperature_c         10774 non-null  float64\n",
            " 8   fuel_price_usd_per_l  10774 non-null  float64\n",
            " 9   unemployment          10774 non-null  float64\n",
            "dtypes: bool(1), float64(4), int64(3), object(2)\n",
            "memory usage: 768.2+ KB\n",
            "None\n",
            "23843.950148505668\n",
            "12049.064999999999\n"
          ],
          "name": "stdout"
        }
      ]
    },
    {
      "cell_type": "code",
      "metadata": {
        "colab": {
          "base_uri": "https://localhost:8080/"
        },
        "id": "ccjNesKgUEOz",
        "outputId": "bef2ee1e-5bb3-4912-90fa-28816fd8bbab"
      },
      "source": [
        "# Print the maximum of the date column\r\n",
        "print(sales[\"date\"].max())\r\n",
        "\r\n",
        "# Print the minimum of the date column\r\n",
        "print(sales[\"date\"].min())"
      ],
      "execution_count": 19,
      "outputs": [
        {
          "output_type": "stream",
          "text": [
            "2012-10-26\n",
            "2010-02-05\n"
          ],
          "name": "stdout"
        }
      ]
    },
    {
      "cell_type": "code",
      "metadata": {
        "colab": {
          "base_uri": "https://localhost:8080/"
        },
        "id": "WA3oDJrcUERQ",
        "outputId": "af86d064-5e35-4e47-9323-fca9619be5a6"
      },
      "source": [
        "# A custom IQR function\r\n",
        "def iqr(column):\r\n",
        "    return column.quantile(0.75) - column.quantile(0.25)\r\n",
        "    \r\n",
        "# Print IQR of the temperature_c column\r\n",
        "print(sales[\"temperature_c\"].agg(iqr))"
      ],
      "execution_count": 20,
      "outputs": [
        {
          "output_type": "stream",
          "text": [
            "16.58333333333334\n"
          ],
          "name": "stdout"
        }
      ]
    },
    {
      "cell_type": "code",
      "metadata": {
        "colab": {
          "base_uri": "https://localhost:8080/"
        },
        "id": "4OzxPVeFVIlg",
        "outputId": "ba35b52c-d7e6-4009-fe35-50c4d8d885de"
      },
      "source": [
        "# A custom IQR function\r\n",
        "def iqr(column):\r\n",
        "    return column.quantile(0.75) - column.quantile(0.25)\r\n",
        "\r\n",
        "# Update to print IQR of temperature_c, fuel_price_usd_per_l, & unemployment\r\n",
        "print(sales[[\"temperature_c\", \"fuel_price_usd_per_l\", \"unemployment\"]].agg(iqr))"
      ],
      "execution_count": 21,
      "outputs": [
        {
          "output_type": "stream",
          "text": [
            "temperature_c           16.583333\n",
            "fuel_price_usd_per_l     0.073176\n",
            "unemployment             0.565000\n",
            "dtype: float64\n"
          ],
          "name": "stdout"
        }
      ]
    },
    {
      "cell_type": "code",
      "metadata": {
        "colab": {
          "base_uri": "https://localhost:8080/"
        },
        "id": "i2DcgLWcV4GP",
        "outputId": "e3ef262c-e0f9-4e91-a994-80ba2cf391fd"
      },
      "source": [
        "# Import NumPy and create custom IQR function\r\n",
        "import numpy as np\r\n",
        "def iqr(column):\r\n",
        "    return column.quantile(0.75) - column.quantile(0.25)\r\n",
        "\r\n",
        "# Update to print IQR and median of temperature_c, fuel_price_usd_per_l, & unemployment\r\n",
        "print(sales[[\"temperature_c\", \"fuel_price_usd_per_l\", \"unemployment\"]].agg([iqr, np.median]))"
      ],
      "execution_count": 22,
      "outputs": [
        {
          "output_type": "stream",
          "text": [
            "        temperature_c  fuel_price_usd_per_l  unemployment\n",
            "iqr         16.583333              0.073176         0.565\n",
            "median      16.966667              0.743381         8.099\n"
          ],
          "name": "stdout"
        }
      ]
    },
    {
      "cell_type": "code",
      "metadata": {
        "colab": {
          "base_uri": "https://localhost:8080/"
        },
        "id": "CfUfsVxqV4Jg",
        "outputId": "1910cd1d-5f1e-49ff-9643-10ff54da58ef"
      },
      "source": [
        "# Sort sales_1_1 by date\r\n",
        "sales_1_1 = sales.sort_values(\"date\")\r\n",
        "\r\n",
        "# Get the cumulative sum of weekly_sales, add as cum_weekly_sales col\r\n",
        "sales_1_1[\"cum_weekly_sales\"] = sales_1_1[\"weekly_sales\"].cumsum()\r\n",
        "\r\n",
        "# Get the cumulative max of weekly_sales, add as cum_max_sales col\r\n",
        "sales_1_1[\"cum_max_sales\"] = sales_1_1[\"weekly_sales\"].cummax()\r\n",
        "\r\n",
        "# See the columns you calculated\r\n",
        "print(sales_1_1[[\"date\", \"weekly_sales\", \"cum_weekly_sales\", \"cum_max_sales\"]])"
      ],
      "execution_count": 23,
      "outputs": [
        {
          "output_type": "stream",
          "text": [
            "             date  weekly_sales  cum_weekly_sales  cum_max_sales\n",
            "0      2010-02-05      24924.50      2.492450e+04       24924.50\n",
            "6437   2010-02-05      38597.52      6.352202e+04       38597.52\n",
            "1249   2010-02-05       3840.21      6.736223e+04       38597.52\n",
            "6449   2010-02-05      17590.59      8.495282e+04       38597.52\n",
            "6461   2010-02-05       4929.87      8.988269e+04       38597.52\n",
            "...           ...           ...               ...            ...\n",
            "3592   2012-10-05        440.00      2.568932e+08      293966.05\n",
            "8108   2012-10-05        660.00      2.568938e+08      293966.05\n",
            "10773  2012-10-05        915.00      2.568947e+08      293966.05\n",
            "6257   2012-10-12          3.00      2.568947e+08      293966.05\n",
            "3384   2012-10-26        -21.63      2.568947e+08      293966.05\n",
            "\n",
            "[10774 rows x 4 columns]\n"
          ],
          "name": "stdout"
        }
      ]
    },
    {
      "cell_type": "code",
      "metadata": {
        "colab": {
          "base_uri": "https://localhost:8080/"
        },
        "id": "3W0sKL64Un0g",
        "outputId": "089130fa-d39d-4cca-b739-b6e47cf237eb"
      },
      "source": [
        "# Drop duplicate store/type combinations\r\n",
        "store_types = sales.drop_duplicates(subset=[\"store\", \"type\"])\r\n",
        "print(store_types.head())\r\n",
        "\r\n",
        "# Drop duplicate store/department combinations\r\n",
        "store_depts = sales.drop_duplicates(subset=[\"store\", \"department\"])\r\n",
        "print(store_depts.head())\r\n",
        "\r\n",
        "# Subset the rows where is_holiday is True and drop duplicate dates\r\n",
        "holiday_dates = sales[sales[\"is_holiday\"]].drop_duplicates(subset=\"date\")\r\n",
        "\r\n",
        "# Print date col of holiday_dates\r\n",
        "print(holiday_dates)"
      ],
      "execution_count": 24,
      "outputs": [
        {
          "output_type": "stream",
          "text": [
            "      Unnamed: 0  store type  ...  temperature_c fuel_price_usd_per_l  unemployment\n",
            "0              0      1    A  ...       5.727778             0.679451         8.106\n",
            "901          901      2    A  ...       4.550000             0.679451         8.324\n",
            "1798        1798      4    A  ...       6.533333             0.686319         8.623\n",
            "2699        2699      6    A  ...       4.683333             0.679451         7.259\n",
            "3593        3593     10    B  ...      12.411111             0.782478         9.765\n",
            "\n",
            "[5 rows x 10 columns]\n",
            "    Unnamed: 0  store type  ...  temperature_c fuel_price_usd_per_l  unemployment\n",
            "0            0      1    A  ...       5.727778             0.679451         8.106\n",
            "12          12      1    A  ...       5.727778             0.679451         8.106\n",
            "24          24      1    A  ...       5.727778             0.679451         8.106\n",
            "36          36      1    A  ...       5.727778             0.679451         8.106\n",
            "48          48      1    A  ...       5.727778             0.679451         8.106\n",
            "\n",
            "[5 rows x 10 columns]\n",
            "      Unnamed: 0  store type  ...  temperature_c fuel_price_usd_per_l  unemployment\n",
            "498          498      1    A  ...      25.938889             0.677602         7.787\n",
            "691          691      1    A  ...      15.633333             0.854861         7.866\n",
            "2315        2315      4    A  ...      -1.755556             0.679715         8.623\n",
            "6735        6735     19    A  ...      22.333333             1.076766         8.193\n",
            "6810        6810     19    A  ...      -1.861111             0.881278         8.067\n",
            "6815        6815     19    A  ...       0.338889             1.010723         7.943\n",
            "6820        6820     19    A  ...      20.155556             1.038197         7.806\n",
            "\n",
            "[7 rows x 10 columns]\n"
          ],
          "name": "stdout"
        }
      ]
    },
    {
      "cell_type": "code",
      "metadata": {
        "colab": {
          "base_uri": "https://localhost:8080/"
        },
        "id": "Rh0bGz3YXvEG",
        "outputId": "0295ab82-dfe7-4013-e771-377775e0f18c"
      },
      "source": [
        "# Count the number of stores of each type\r\n",
        "store_counts = store_types[\"type\"].value_counts()\r\n",
        "print(store_counts)\r\n",
        "\r\n",
        "# Get the proportion of stores of each type\r\n",
        "store_props = store_types[\"type\"].value_counts(normalize=True)\r\n",
        "print(store_props)\r\n",
        "\r\n",
        "# Count the number of each department number and sort\r\n",
        "dept_counts_sorted = store_depts[\"department\"].value_counts(sort=True)\r\n",
        "print(dept_counts_sorted)\r\n",
        "\r\n",
        "# Get the proportion of departments of each number and sort\r\n",
        "dept_props_sorted = store_depts[\"department\"].value_counts(sort=True, normalize=True)\r\n",
        "print(dept_props_sorted)"
      ],
      "execution_count": 25,
      "outputs": [
        {
          "output_type": "stream",
          "text": [
            "A    11\n",
            "B     1\n",
            "Name: type, dtype: int64\n",
            "A    0.916667\n",
            "B    0.083333\n",
            "Name: type, dtype: float64\n",
            "41    12\n",
            "30    12\n",
            "23    12\n",
            "24    12\n",
            "25    12\n",
            "      ..\n",
            "37    10\n",
            "48     8\n",
            "50     6\n",
            "39     4\n",
            "43     2\n",
            "Name: department, Length: 80, dtype: int64\n",
            "41    0.012917\n",
            "30    0.012917\n",
            "23    0.012917\n",
            "24    0.012917\n",
            "25    0.012917\n",
            "        ...   \n",
            "37    0.010764\n",
            "48    0.008611\n",
            "50    0.006459\n",
            "39    0.004306\n",
            "43    0.002153\n",
            "Name: department, Length: 80, dtype: float64\n"
          ],
          "name": "stdout"
        }
      ]
    }
  ]
}