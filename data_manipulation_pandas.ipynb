{
  "nbformat": 4,
  "nbformat_minor": 0,
  "metadata": {
    "colab": {
      "name": "data_manipulation_pandas.ipynb",
      "provenance": [],
      "collapsed_sections": [],
      "toc_visible": true,
      "mount_file_id": "1J3DzXxQT9aigaxrvJuPD8eUtonZ6waXg",
      "authorship_tag": "ABX9TyNM6v6gGXnV61FTSqocHpR6",
      "include_colab_link": true
    },
    "kernelspec": {
      "name": "python3",
      "display_name": "Python 3"
    }
  },
  "cells": [
    {
      "cell_type": "markdown",
      "metadata": {
        "id": "view-in-github",
        "colab_type": "text"
      },
      "source": [
        "<a href=\"https://colab.research.google.com/github/andresalerno/datacamp_python/blob/main/data_manipulation_pandas.ipynb\" target=\"_parent\"><img src=\"https://colab.research.google.com/assets/colab-badge.svg\" alt=\"Open In Colab\"/></a>"
      ]
    },
    {
      "cell_type": "markdown",
      "metadata": {
        "id": "-Iw-SgZ6UMC0"
      },
      "source": [
        "## Chapter 1"
      ]
    },
    {
      "cell_type": "markdown",
      "metadata": {
        "id": "5g8s7Yl6U_ks"
      },
      "source": [
        "## 1.1) Setting up\n",
        "\n"
      ]
    },
    {
      "cell_type": "code",
      "metadata": {
        "colab": {
          "base_uri": "https://localhost:8080/"
        },
        "id": "LWj1lPOgZFRi",
        "outputId": "a61e95c1-8394-4e9f-d1d5-8ebde7fb56af"
      },
      "source": [
        "!pip install PyDrive"
      ],
      "execution_count": 2,
      "outputs": [
        {
          "output_type": "stream",
          "text": [
            "Requirement already satisfied: PyDrive in /usr/local/lib/python3.6/dist-packages (1.3.1)\n",
            "Requirement already satisfied: PyYAML>=3.0 in /usr/local/lib/python3.6/dist-packages (from PyDrive) (3.13)\n",
            "Requirement already satisfied: oauth2client>=4.0.0 in /usr/local/lib/python3.6/dist-packages (from PyDrive) (4.1.3)\n",
            "Requirement already satisfied: google-api-python-client>=1.2 in /usr/local/lib/python3.6/dist-packages (from PyDrive) (1.7.12)\n",
            "Requirement already satisfied: pyasn1>=0.1.7 in /usr/local/lib/python3.6/dist-packages (from oauth2client>=4.0.0->PyDrive) (0.4.8)\n",
            "Requirement already satisfied: httplib2>=0.9.1 in /usr/local/lib/python3.6/dist-packages (from oauth2client>=4.0.0->PyDrive) (0.17.4)\n",
            "Requirement already satisfied: six>=1.6.1 in /usr/local/lib/python3.6/dist-packages (from oauth2client>=4.0.0->PyDrive) (1.15.0)\n",
            "Requirement already satisfied: pyasn1-modules>=0.0.5 in /usr/local/lib/python3.6/dist-packages (from oauth2client>=4.0.0->PyDrive) (0.2.8)\n",
            "Requirement already satisfied: rsa>=3.1.4 in /usr/local/lib/python3.6/dist-packages (from oauth2client>=4.0.0->PyDrive) (4.6)\n",
            "Requirement already satisfied: google-auth-httplib2>=0.0.3 in /usr/local/lib/python3.6/dist-packages (from google-api-python-client>=1.2->PyDrive) (0.0.4)\n",
            "Requirement already satisfied: google-auth>=1.4.1 in /usr/local/lib/python3.6/dist-packages (from google-api-python-client>=1.2->PyDrive) (1.17.2)\n",
            "Requirement already satisfied: uritemplate<4dev,>=3.0.0 in /usr/local/lib/python3.6/dist-packages (from google-api-python-client>=1.2->PyDrive) (3.0.1)\n",
            "Requirement already satisfied: setuptools>=40.3.0 in /usr/local/lib/python3.6/dist-packages (from google-auth>=1.4.1->google-api-python-client>=1.2->PyDrive) (51.3.3)\n",
            "Requirement already satisfied: cachetools<5.0,>=2.0.0 in /usr/local/lib/python3.6/dist-packages (from google-auth>=1.4.1->google-api-python-client>=1.2->PyDrive) (4.2.0)\n"
          ],
          "name": "stdout"
        }
      ]
    },
    {
      "cell_type": "code",
      "metadata": {
        "id": "yKXVMtbPV05h"
      },
      "source": [
        "from pydrive.auth import GoogleAuth\n",
        "from pydrive.drive import GoogleDrive\n",
        "from google.colab import auth\n",
        "from oauth2client.client import GoogleCredentials"
      ],
      "execution_count": 3,
      "outputs": []
    },
    {
      "cell_type": "code",
      "metadata": {
        "id": "ub7emtc5V6Lb"
      },
      "source": [
        "auth.authenticate_user()\n",
        "gauth = GoogleAuth()\n",
        "gauth.credentials = GoogleCredentials.get_application_default()\n",
        "drive = GoogleDrive(gauth)"
      ],
      "execution_count": 4,
      "outputs": []
    },
    {
      "cell_type": "code",
      "metadata": {
        "id": "4zI6z9qpWF3X"
      },
      "source": [
        "downloaded = drive.CreateFile({'id':\"1-Cd70bB4NKbeiLj_QzJ_l5sqWhbuoYN-\"})   # replace the id with id of file you want to access\n",
        "downloaded.GetContentFile('homelessness.csv')        # replace the file name with your file\n"
      ],
      "execution_count": 5,
      "outputs": []
    },
    {
      "cell_type": "code",
      "metadata": {
        "id": "FVfkLcTjULH3"
      },
      "source": [
        "import pandas as pd\n",
        "homelessness = pd.read_csv('homelessness.csv')"
      ],
      "execution_count": 6,
      "outputs": []
    },
    {
      "cell_type": "code",
      "metadata": {
        "colab": {
          "base_uri": "https://localhost:8080/",
          "height": 195
        },
        "id": "g8o143F_VOzN",
        "outputId": "1358672c-5702-4fbf-fce2-c1e35e2ce52a"
      },
      "source": [
        "homelessness.head()"
      ],
      "execution_count": 7,
      "outputs": [
        {
          "output_type": "execute_result",
          "data": {
            "text/html": [
              "<div>\n",
              "<style scoped>\n",
              "    .dataframe tbody tr th:only-of-type {\n",
              "        vertical-align: middle;\n",
              "    }\n",
              "\n",
              "    .dataframe tbody tr th {\n",
              "        vertical-align: top;\n",
              "    }\n",
              "\n",
              "    .dataframe thead th {\n",
              "        text-align: right;\n",
              "    }\n",
              "</style>\n",
              "<table border=\"1\" class=\"dataframe\">\n",
              "  <thead>\n",
              "    <tr style=\"text-align: right;\">\n",
              "      <th></th>\n",
              "      <th>Unnamed: 0</th>\n",
              "      <th>region</th>\n",
              "      <th>state</th>\n",
              "      <th>individuals</th>\n",
              "      <th>family_members</th>\n",
              "      <th>state_pop</th>\n",
              "    </tr>\n",
              "  </thead>\n",
              "  <tbody>\n",
              "    <tr>\n",
              "      <th>0</th>\n",
              "      <td>0</td>\n",
              "      <td>East South Central</td>\n",
              "      <td>Alabama</td>\n",
              "      <td>2570.0</td>\n",
              "      <td>864.0</td>\n",
              "      <td>4887681</td>\n",
              "    </tr>\n",
              "    <tr>\n",
              "      <th>1</th>\n",
              "      <td>1</td>\n",
              "      <td>Pacific</td>\n",
              "      <td>Alaska</td>\n",
              "      <td>1434.0</td>\n",
              "      <td>582.0</td>\n",
              "      <td>735139</td>\n",
              "    </tr>\n",
              "    <tr>\n",
              "      <th>2</th>\n",
              "      <td>2</td>\n",
              "      <td>Mountain</td>\n",
              "      <td>Arizona</td>\n",
              "      <td>7259.0</td>\n",
              "      <td>2606.0</td>\n",
              "      <td>7158024</td>\n",
              "    </tr>\n",
              "    <tr>\n",
              "      <th>3</th>\n",
              "      <td>3</td>\n",
              "      <td>West South Central</td>\n",
              "      <td>Arkansas</td>\n",
              "      <td>2280.0</td>\n",
              "      <td>432.0</td>\n",
              "      <td>3009733</td>\n",
              "    </tr>\n",
              "    <tr>\n",
              "      <th>4</th>\n",
              "      <td>4</td>\n",
              "      <td>Pacific</td>\n",
              "      <td>California</td>\n",
              "      <td>109008.0</td>\n",
              "      <td>20964.0</td>\n",
              "      <td>39461588</td>\n",
              "    </tr>\n",
              "  </tbody>\n",
              "</table>\n",
              "</div>"
            ],
            "text/plain": [
              "   Unnamed: 0              region  ... family_members  state_pop\n",
              "0           0  East South Central  ...          864.0    4887681\n",
              "1           1             Pacific  ...          582.0     735139\n",
              "2           2            Mountain  ...         2606.0    7158024\n",
              "3           3  West South Central  ...          432.0    3009733\n",
              "4           4             Pacific  ...        20964.0   39461588\n",
              "\n",
              "[5 rows x 6 columns]"
            ]
          },
          "metadata": {
            "tags": []
          },
          "execution_count": 7
        }
      ]
    },
    {
      "cell_type": "markdown",
      "metadata": {
        "id": "927H4skLNUJ-"
      },
      "source": [
        "# Chapter 1"
      ]
    },
    {
      "cell_type": "code",
      "metadata": {
        "colab": {
          "base_uri": "https://localhost:8080/"
        },
        "id": "g9o9vw_whu2Z",
        "outputId": "af502215-351f-4e00-8e63-211d47295a35"
      },
      "source": [
        "# Print the column index of homelessness\n",
        "print(homelessness.columns)"
      ],
      "execution_count": 8,
      "outputs": [
        {
          "output_type": "stream",
          "text": [
            "Index(['Unnamed: 0', 'region', 'state', 'individuals', 'family_members',\n",
            "       'state_pop'],\n",
            "      dtype='object')\n"
          ],
          "name": "stdout"
        }
      ]
    },
    {
      "cell_type": "code",
      "metadata": {
        "colab": {
          "base_uri": "https://localhost:8080/"
        },
        "id": "fdeu7E-Jhvxj",
        "outputId": "13485dc2-18e7-48b5-b084-962db8809706"
      },
      "source": [
        "# Print the row index of homelessness\n",
        "print(homelessness.index)"
      ],
      "execution_count": 9,
      "outputs": [
        {
          "output_type": "stream",
          "text": [
            "RangeIndex(start=0, stop=51, step=1)\n"
          ],
          "name": "stdout"
        }
      ]
    },
    {
      "cell_type": "code",
      "metadata": {
        "colab": {
          "base_uri": "https://localhost:8080/"
        },
        "id": "T5OgG5ToiVuZ",
        "outputId": "928f7f81-2890-402b-cedc-6586d9b270c3"
      },
      "source": [
        "print(homelessness.shape)"
      ],
      "execution_count": 10,
      "outputs": [
        {
          "output_type": "stream",
          "text": [
            "(51, 6)\n"
          ],
          "name": "stdout"
        }
      ]
    },
    {
      "cell_type": "code",
      "metadata": {
        "colab": {
          "base_uri": "https://localhost:8080/"
        },
        "id": "WX-TD9vOMPEi",
        "outputId": "d3298420-663c-49ad-eadf-436e417bde45"
      },
      "source": [
        "# Select the individuals column\r\n",
        "individuals = homelessness[\"individuals\"]\r\n",
        "\r\n",
        "# Print the head of the result\r\n",
        "print(individuals.head())"
      ],
      "execution_count": 11,
      "outputs": [
        {
          "output_type": "stream",
          "text": [
            "0      2570.0\n",
            "1      1434.0\n",
            "2      7259.0\n",
            "3      2280.0\n",
            "4    109008.0\n",
            "Name: individuals, dtype: float64\n"
          ],
          "name": "stdout"
        }
      ]
    },
    {
      "cell_type": "code",
      "metadata": {
        "colab": {
          "base_uri": "https://localhost:8080/"
        },
        "id": "v5XXPxOoMlQw",
        "outputId": "b377adbb-c9db-4a4a-d135-3c93348d2a3e"
      },
      "source": [
        "# Filter for rows where individuals is greater than 10000\r\n",
        "ind_gt_10k = homelessness[homelessness[\"individuals\"] > 10000]\r\n",
        "\r\n",
        "# See the result\r\n",
        "print(ind_gt_10k)"
      ],
      "execution_count": 12,
      "outputs": [
        {
          "output_type": "stream",
          "text": [
            "    Unnamed: 0              region  ... family_members  state_pop\n",
            "4            4             Pacific  ...        20964.0   39461588\n",
            "9            9      South Atlantic  ...         9587.0   21244317\n",
            "32          32        Mid-Atlantic  ...        52070.0   19530351\n",
            "37          37             Pacific  ...         3337.0    4181886\n",
            "43          43  West South Central  ...         6111.0   28628666\n",
            "47          47             Pacific  ...         5880.0    7523869\n",
            "\n",
            "[6 rows x 6 columns]\n"
          ],
          "name": "stdout"
        }
      ]
    },
    {
      "cell_type": "code",
      "metadata": {
        "colab": {
          "base_uri": "https://localhost:8080/"
        },
        "id": "Q_R6IPY7M8Sr",
        "outputId": "d9480983-e38c-46bb-82ee-3f9d62a4d77c"
      },
      "source": [
        "# Add total col as sum of individuals and family_members\r\n",
        "homelessness['total'] = homelessness['individuals'] + homelessness['family_members']\r\n",
        "\r\n",
        "# Add p_individuals col as proportion of individuals\r\n",
        "homelessness['p_individuals'] = homelessness['individuals'] / homelessness['total']\r\n",
        "\r\n",
        "# See the result\r\n",
        "print(homelessness)\r\n"
      ],
      "execution_count": 13,
      "outputs": [
        {
          "output_type": "stream",
          "text": [
            "    Unnamed: 0              region  ...     total  p_individuals\n",
            "0            0  East South Central  ...    3434.0       0.748398\n",
            "1            1             Pacific  ...    2016.0       0.711310\n",
            "2            2            Mountain  ...    9865.0       0.735834\n",
            "3            3  West South Central  ...    2712.0       0.840708\n",
            "4            4             Pacific  ...  129972.0       0.838704\n",
            "5            5            Mountain  ...   10857.0       0.700654\n",
            "6            6         New England  ...    3976.0       0.573441\n",
            "7            7      South Atlantic  ...    1082.0       0.654344\n",
            "8            8      South Atlantic  ...    6904.0       0.546060\n",
            "9            9      South Atlantic  ...   31030.0       0.691041\n",
            "10          10      South Atlantic  ...    9499.0       0.730919\n",
            "11          11             Pacific  ...    6530.0       0.632619\n",
            "12          12            Mountain  ...    2012.0       0.644632\n",
            "13          13  East North Central  ...   10643.0       0.634408\n",
            "14          14  East North Central  ...    5258.0       0.718144\n",
            "15          15  West North Central  ...    2749.0       0.622408\n",
            "16          16  West North Central  ...    2216.0       0.651173\n",
            "17          17  East South Central  ...    3688.0       0.741594\n",
            "18          18  West South Central  ...    3059.0       0.830337\n",
            "19          19         New England  ...    2516.0       0.576312\n",
            "20          20      South Atlantic  ...    7144.0       0.687850\n",
            "21          21         New England  ...   20068.0       0.339396\n",
            "22          22  East North Central  ...    8351.0       0.623758\n",
            "23          23  West North Central  ...    7243.0       0.551291\n",
            "24          24  East South Central  ...    1352.0       0.757396\n",
            "25          25  West North Central  ...    5883.0       0.641849\n",
            "26          26            Mountain  ...    1405.0       0.699644\n",
            "27          27  West North Central  ...    2421.0       0.720777\n",
            "28          28            Mountain  ...    7544.0       0.935578\n",
            "29          29         New England  ...    1450.0       0.575862\n",
            "30          30        Mid-Atlantic  ...    9398.0       0.643541\n",
            "31          31            Mountain  ...    2551.0       0.764014\n",
            "32          32        Mid-Atlantic  ...   91897.0       0.433387\n",
            "33          33      South Atlantic  ...    9268.0       0.696051\n",
            "34          34  West North Central  ...     542.0       0.861624\n",
            "35          35  East North Central  ...   10249.0       0.676066\n",
            "36          36  West South Central  ...    3871.0       0.729269\n",
            "37          37             Pacific  ...   14476.0       0.769481\n",
            "38          38        Mid-Atlantic  ...   13512.0       0.604130\n",
            "39          39         New England  ...    1101.0       0.678474\n",
            "40          40      South Atlantic  ...    3933.0       0.783626\n",
            "41          41  West North Central  ...    1159.0       0.721311\n",
            "42          42  East South Central  ...    7883.0       0.778764\n",
            "43          43  West South Central  ...   25310.0       0.758554\n",
            "44          44            Mountain  ...    2876.0       0.662031\n",
            "45          45         New England  ...    1291.0       0.604183\n",
            "46          46      South Atlantic  ...    5975.0       0.657406\n",
            "47          47             Pacific  ...   22304.0       0.736370\n",
            "48          48      South Atlantic  ...    1243.0       0.821400\n",
            "49          49  East North Central  ...    4907.0       0.558386\n",
            "50          50            Mountain  ...     639.0       0.679186\n",
            "\n",
            "[51 rows x 8 columns]\n"
          ],
          "name": "stdout"
        }
      ]
    },
    {
      "cell_type": "markdown",
      "metadata": {
        "id": "7ipZQ7nKNd5K"
      },
      "source": [
        "# Chapter 2"
      ]
    },
    {
      "cell_type": "code",
      "metadata": {
        "id": "Mw7-e2jiNgJz"
      },
      "source": [
        "downloaded = drive.CreateFile({'id':\"1-Yb4vLGr1JIpGfxCf0snrWnXfi9D4YA8\"})   # replace the id with id of file you want to access\r\n",
        "downloaded.GetContentFile('sales.csv')        # replace the file name with your file"
      ],
      "execution_count": 14,
      "outputs": []
    },
    {
      "cell_type": "code",
      "metadata": {
        "id": "k4xrm5BSQIkB"
      },
      "source": [
        "import pandas as pd\r\n",
        "sales = pd.read_csv('sales.csv')"
      ],
      "execution_count": 15,
      "outputs": []
    },
    {
      "cell_type": "code",
      "metadata": {
        "colab": {
          "base_uri": "https://localhost:8080/"
        },
        "id": "9foV0nfwNgLj",
        "outputId": "8a2201dd-b7a5-40b2-9a7c-c09b8585cf90"
      },
      "source": [
        "# Print the head of the sales DataFrame\r\n",
        "print(sales.head())\r\n",
        "\r\n",
        "# Print the info about the sales DataFrame\r\n",
        "print(sales.info())\r\n",
        "\r\n",
        "# Print the mean of weekly_sales\r\n",
        "print(sales[\"weekly_sales\"].mean())\r\n",
        "\r\n",
        "# Print the median of weekly_sales\r\n",
        "print(sales[\"weekly_sales\"].median())\r\n"
      ],
      "execution_count": 16,
      "outputs": [
        {
          "output_type": "stream",
          "text": [
            "   Unnamed: 0  store type  ...  temperature_c fuel_price_usd_per_l  unemployment\n",
            "0           0      1    A  ...       5.727778             0.679451         8.106\n",
            "1           1      1    A  ...       8.055556             0.693452         8.106\n",
            "2           2      1    A  ...      16.816667             0.718284         7.808\n",
            "3           3      1    A  ...      22.527778             0.748928         7.808\n",
            "4           4      1    A  ...      27.050000             0.714586         7.808\n",
            "\n",
            "[5 rows x 10 columns]\n",
            "<class 'pandas.core.frame.DataFrame'>\n",
            "RangeIndex: 10774 entries, 0 to 10773\n",
            "Data columns (total 10 columns):\n",
            " #   Column                Non-Null Count  Dtype  \n",
            "---  ------                --------------  -----  \n",
            " 0   Unnamed: 0            10774 non-null  int64  \n",
            " 1   store                 10774 non-null  int64  \n",
            " 2   type                  10774 non-null  object \n",
            " 3   department            10774 non-null  int64  \n",
            " 4   date                  10774 non-null  object \n",
            " 5   weekly_sales          10774 non-null  float64\n",
            " 6   is_holiday            10774 non-null  bool   \n",
            " 7   temperature_c         10774 non-null  float64\n",
            " 8   fuel_price_usd_per_l  10774 non-null  float64\n",
            " 9   unemployment          10774 non-null  float64\n",
            "dtypes: bool(1), float64(4), int64(3), object(2)\n",
            "memory usage: 768.2+ KB\n",
            "None\n",
            "23843.950148505668\n",
            "12049.064999999999\n"
          ],
          "name": "stdout"
        }
      ]
    },
    {
      "cell_type": "code",
      "metadata": {
        "colab": {
          "base_uri": "https://localhost:8080/"
        },
        "id": "ccjNesKgUEOz",
        "outputId": "0c4446ae-21c5-4651-d5ed-7c01206efcdb"
      },
      "source": [
        "# Print the maximum of the date column\r\n",
        "print(sales[\"date\"].max())\r\n",
        "\r\n",
        "# Print the minimum of the date column\r\n",
        "print(sales[\"date\"].min())"
      ],
      "execution_count": 17,
      "outputs": [
        {
          "output_type": "stream",
          "text": [
            "2012-10-26\n",
            "2010-02-05\n"
          ],
          "name": "stdout"
        }
      ]
    },
    {
      "cell_type": "code",
      "metadata": {
        "colab": {
          "base_uri": "https://localhost:8080/"
        },
        "id": "WA3oDJrcUERQ",
        "outputId": "ae27fbe9-6ac9-4569-a7f0-119444c01a9b"
      },
      "source": [
        "# A custom IQR function\r\n",
        "def iqr(column):\r\n",
        "    return column.quantile(0.75) - column.quantile(0.25)\r\n",
        "    \r\n",
        "# Print IQR of the temperature_c column\r\n",
        "print(sales[\"temperature_c\"].agg(iqr))"
      ],
      "execution_count": 18,
      "outputs": [
        {
          "output_type": "stream",
          "text": [
            "16.58333333333334\n"
          ],
          "name": "stdout"
        }
      ]
    },
    {
      "cell_type": "code",
      "metadata": {
        "colab": {
          "base_uri": "https://localhost:8080/"
        },
        "id": "4OzxPVeFVIlg",
        "outputId": "2c56c65a-adc7-4c70-b631-0442ff5e60dc"
      },
      "source": [
        "# A custom IQR function\r\n",
        "def iqr(column):\r\n",
        "    return column.quantile(0.75) - column.quantile(0.25)\r\n",
        "\r\n",
        "# Update to print IQR of temperature_c, fuel_price_usd_per_l, & unemployment\r\n",
        "print(sales[[\"temperature_c\", \"fuel_price_usd_per_l\", \"unemployment\"]].agg(iqr))"
      ],
      "execution_count": 19,
      "outputs": [
        {
          "output_type": "stream",
          "text": [
            "temperature_c           16.583333\n",
            "fuel_price_usd_per_l     0.073176\n",
            "unemployment             0.565000\n",
            "dtype: float64\n"
          ],
          "name": "stdout"
        }
      ]
    },
    {
      "cell_type": "code",
      "metadata": {
        "colab": {
          "base_uri": "https://localhost:8080/"
        },
        "id": "i2DcgLWcV4GP",
        "outputId": "57ec531b-ba0a-4462-96bd-df52a8d0e7fc"
      },
      "source": [
        "# Import NumPy and create custom IQR function\r\n",
        "import numpy as np\r\n",
        "def iqr(column):\r\n",
        "    return column.quantile(0.75) - column.quantile(0.25)\r\n",
        "\r\n",
        "# Update to print IQR and median of temperature_c, fuel_price_usd_per_l, & unemployment\r\n",
        "print(sales[[\"temperature_c\", \"fuel_price_usd_per_l\", \"unemployment\"]].agg([iqr, np.median]))"
      ],
      "execution_count": 20,
      "outputs": [
        {
          "output_type": "stream",
          "text": [
            "        temperature_c  fuel_price_usd_per_l  unemployment\n",
            "iqr         16.583333              0.073176         0.565\n",
            "median      16.966667              0.743381         8.099\n"
          ],
          "name": "stdout"
        }
      ]
    },
    {
      "cell_type": "code",
      "metadata": {
        "colab": {
          "base_uri": "https://localhost:8080/"
        },
        "id": "CfUfsVxqV4Jg",
        "outputId": "c9491b97-3dca-4de6-de6e-669aa6c71b75"
      },
      "source": [
        "# Sort sales_1_1 by date\r\n",
        "sales_1_1 = sales.sort_values(\"date\")\r\n",
        "\r\n",
        "# Get the cumulative sum of weekly_sales, add as cum_weekly_sales col\r\n",
        "sales_1_1[\"cum_weekly_sales\"] = sales_1_1[\"weekly_sales\"].cumsum()\r\n",
        "\r\n",
        "# Get the cumulative max of weekly_sales, add as cum_max_sales col\r\n",
        "sales_1_1[\"cum_max_sales\"] = sales_1_1[\"weekly_sales\"].cummax()\r\n",
        "\r\n",
        "# See the columns you calculated\r\n",
        "print(sales_1_1[[\"date\", \"weekly_sales\", \"cum_weekly_sales\", \"cum_max_sales\"]])"
      ],
      "execution_count": 21,
      "outputs": [
        {
          "output_type": "stream",
          "text": [
            "             date  weekly_sales  cum_weekly_sales  cum_max_sales\n",
            "0      2010-02-05      24924.50      2.492450e+04       24924.50\n",
            "6437   2010-02-05      38597.52      6.352202e+04       38597.52\n",
            "1249   2010-02-05       3840.21      6.736223e+04       38597.52\n",
            "6449   2010-02-05      17590.59      8.495282e+04       38597.52\n",
            "6461   2010-02-05       4929.87      8.988269e+04       38597.52\n",
            "...           ...           ...               ...            ...\n",
            "3592   2012-10-05        440.00      2.568932e+08      293966.05\n",
            "8108   2012-10-05        660.00      2.568938e+08      293966.05\n",
            "10773  2012-10-05        915.00      2.568947e+08      293966.05\n",
            "6257   2012-10-12          3.00      2.568947e+08      293966.05\n",
            "3384   2012-10-26        -21.63      2.568947e+08      293966.05\n",
            "\n",
            "[10774 rows x 4 columns]\n"
          ],
          "name": "stdout"
        }
      ]
    },
    {
      "cell_type": "code",
      "metadata": {
        "colab": {
          "base_uri": "https://localhost:8080/"
        },
        "id": "3W0sKL64Un0g",
        "outputId": "36a37b16-1f00-4fd5-ba36-df0f82e31ff3"
      },
      "source": [
        "# Drop duplicate store/type combinations\r\n",
        "store_types = sales.drop_duplicates(subset=[\"store\", \"type\"])\r\n",
        "print(store_types.head())\r\n",
        "\r\n",
        "# Drop duplicate store/department combinations\r\n",
        "store_depts = sales.drop_duplicates(subset=[\"store\", \"department\"])\r\n",
        "print(store_depts.head())\r\n",
        "\r\n",
        "# Subset the rows where is_holiday is True and drop duplicate dates\r\n",
        "holiday_dates = sales[sales[\"is_holiday\"]].drop_duplicates(subset=\"date\")\r\n",
        "\r\n",
        "# Print date col of holiday_dates\r\n",
        "print(holiday_dates)"
      ],
      "execution_count": 22,
      "outputs": [
        {
          "output_type": "stream",
          "text": [
            "      Unnamed: 0  store type  ...  temperature_c fuel_price_usd_per_l  unemployment\n",
            "0              0      1    A  ...       5.727778             0.679451         8.106\n",
            "901          901      2    A  ...       4.550000             0.679451         8.324\n",
            "1798        1798      4    A  ...       6.533333             0.686319         8.623\n",
            "2699        2699      6    A  ...       4.683333             0.679451         7.259\n",
            "3593        3593     10    B  ...      12.411111             0.782478         9.765\n",
            "\n",
            "[5 rows x 10 columns]\n",
            "    Unnamed: 0  store type  ...  temperature_c fuel_price_usd_per_l  unemployment\n",
            "0            0      1    A  ...       5.727778             0.679451         8.106\n",
            "12          12      1    A  ...       5.727778             0.679451         8.106\n",
            "24          24      1    A  ...       5.727778             0.679451         8.106\n",
            "36          36      1    A  ...       5.727778             0.679451         8.106\n",
            "48          48      1    A  ...       5.727778             0.679451         8.106\n",
            "\n",
            "[5 rows x 10 columns]\n",
            "      Unnamed: 0  store type  ...  temperature_c fuel_price_usd_per_l  unemployment\n",
            "498          498      1    A  ...      25.938889             0.677602         7.787\n",
            "691          691      1    A  ...      15.633333             0.854861         7.866\n",
            "2315        2315      4    A  ...      -1.755556             0.679715         8.623\n",
            "6735        6735     19    A  ...      22.333333             1.076766         8.193\n",
            "6810        6810     19    A  ...      -1.861111             0.881278         8.067\n",
            "6815        6815     19    A  ...       0.338889             1.010723         7.943\n",
            "6820        6820     19    A  ...      20.155556             1.038197         7.806\n",
            "\n",
            "[7 rows x 10 columns]\n"
          ],
          "name": "stdout"
        }
      ]
    },
    {
      "cell_type": "code",
      "metadata": {
        "colab": {
          "base_uri": "https://localhost:8080/"
        },
        "id": "Rh0bGz3YXvEG",
        "outputId": "f5b143bc-fd1e-4371-f38d-6543ab67b3da"
      },
      "source": [
        "# Count the number of stores of each type\r\n",
        "store_counts = store_types[\"type\"].value_counts()\r\n",
        "print(store_counts)\r\n",
        "\r\n",
        "# Get the proportion of stores of each type\r\n",
        "store_props = store_types[\"type\"].value_counts(normalize=True)\r\n",
        "print(store_props)\r\n",
        "\r\n",
        "# Count the number of each department number and sort\r\n",
        "dept_counts_sorted = store_depts[\"department\"].value_counts(sort=True)\r\n",
        "print(dept_counts_sorted)\r\n",
        "\r\n",
        "# Get the proportion of departments of each number and sort\r\n",
        "dept_props_sorted = store_depts[\"department\"].value_counts(sort=True, normalize=True)\r\n",
        "print(dept_props_sorted)"
      ],
      "execution_count": 23,
      "outputs": [
        {
          "output_type": "stream",
          "text": [
            "A    11\n",
            "B     1\n",
            "Name: type, dtype: int64\n",
            "A    0.916667\n",
            "B    0.083333\n",
            "Name: type, dtype: float64\n",
            "41    12\n",
            "30    12\n",
            "23    12\n",
            "24    12\n",
            "25    12\n",
            "      ..\n",
            "37    10\n",
            "48     8\n",
            "50     6\n",
            "39     4\n",
            "43     2\n",
            "Name: department, Length: 80, dtype: int64\n",
            "41    0.012917\n",
            "30    0.012917\n",
            "23    0.012917\n",
            "24    0.012917\n",
            "25    0.012917\n",
            "        ...   \n",
            "37    0.010764\n",
            "48    0.008611\n",
            "50    0.006459\n",
            "39    0.004306\n",
            "43    0.002153\n",
            "Name: department, Length: 80, dtype: float64\n"
          ],
          "name": "stdout"
        }
      ]
    },
    {
      "cell_type": "code",
      "metadata": {
        "colab": {
          "base_uri": "https://localhost:8080/"
        },
        "id": "P1Ay1BLJo3cR",
        "outputId": "98f00396-e756-4140-a562-74d0d1420bfd"
      },
      "source": [
        "# Calc total weekly sales\r\n",
        "sales_all = sales[\"weekly_sales\"].sum()\r\n",
        "\r\n",
        "# Subset for type A stores, calc total weekly sales\r\n",
        "sales_A = sales[sales[\"type\"] == \"A\"][\"weekly_sales\"].sum()\r\n",
        "\r\n",
        "# Subset for type B stores, calc total weekly sales\r\n",
        "sales_B = sales[sales[\"type\"] == \"B\"][\"weekly_sales\"].sum()\r\n",
        "\r\n",
        "# Subset for type C stores, calc total weekly sales\r\n",
        "sales_C = sales[sales[\"type\"] == \"C\"][\"weekly_sales\"].sum()\r\n",
        "\r\n",
        "# Get proportion for each type\r\n",
        "sales_propn_by_type = [sales_A, sales_B, sales_C] / sales_all\r\n",
        "print(sales_propn_by_type)"
      ],
      "execution_count": 24,
      "outputs": [
        {
          "output_type": "stream",
          "text": [
            "[0.9097747 0.0902253 0.       ]\n"
          ],
          "name": "stdout"
        }
      ]
    },
    {
      "cell_type": "code",
      "metadata": {
        "colab": {
          "base_uri": "https://localhost:8080/"
        },
        "id": "KoRQyr7OqyWk",
        "outputId": "9f382416-df2c-412a-8887-3611a9169358"
      },
      "source": [
        "# Group by type; calc total weekly sales\r\n",
        "sales_by_type = sales.groupby(\"type\")[\"weekly_sales\"].sum()\r\n",
        "\r\n",
        "# Get proportion for each type\r\n",
        "sales_propn_by_type = sales_by_type / sum(sales_by_type)\r\n",
        "print(sales_propn_by_type)"
      ],
      "execution_count": 25,
      "outputs": [
        {
          "output_type": "stream",
          "text": [
            "type\n",
            "A    0.909775\n",
            "B    0.090225\n",
            "Name: weekly_sales, dtype: float64\n"
          ],
          "name": "stdout"
        }
      ]
    },
    {
      "cell_type": "code",
      "metadata": {
        "colab": {
          "base_uri": "https://localhost:8080/"
        },
        "id": "gnuVT1WktIsT",
        "outputId": "c211d6a5-76b6-40ad-8c9e-beea1c94f4fd"
      },
      "source": [
        "# From previous step\r\n",
        "sales_by_type = sales.groupby(\"type\")[\"weekly_sales\"].sum()\r\n",
        "\r\n",
        "# Group by type and is_holiday; calc total weekly sales\r\n",
        "sales_by_type_is_holiday = sales.groupby([\"type\", \"is_holiday\"])[\"weekly_sales\"].sum()\r\n",
        "print(sales_by_type_is_holiday)"
      ],
      "execution_count": 26,
      "outputs": [
        {
          "output_type": "stream",
          "text": [
            "type  is_holiday\n",
            "A     False         2.336927e+08\n",
            "      True          2.360181e+04\n",
            "B     False         2.317678e+07\n",
            "      True          1.621410e+03\n",
            "Name: weekly_sales, dtype: float64\n"
          ],
          "name": "stdout"
        }
      ]
    },
    {
      "cell_type": "code",
      "metadata": {
        "colab": {
          "base_uri": "https://localhost:8080/"
        },
        "id": "DxRvm3tptIu2",
        "outputId": "d7d64d8e-d20c-46ee-bba2-b36c77405f6b"
      },
      "source": [
        "# Import numpy with the alias np\r\n",
        "import numpy as np\r\n",
        "\r\n",
        "# For each store type, aggregate weekly_sales: get min, max, mean, and median\r\n",
        "sales_stats = sales.groupby(\"type\")[\"weekly_sales\"].agg([min, max, np.mean, np.median])\r\n",
        "\r\n",
        "# Print sales_stats\r\n",
        "print(sales_stats)\r\n",
        "\r\n",
        "# For each store type, aggregate unemployment and fuel_price_usd_per_l: get min, max, mean, and median\r\n",
        "unemp_fuel_stats = sales.groupby(\"type\")[[\"unemployment\", \"fuel_price_usd_per_l\"]].agg([min, max, np.mean, np.median])\r\n",
        "\r\n",
        "# Print unemp_fuel_stats\r\n",
        "print(unemp_fuel_stats)"
      ],
      "execution_count": 27,
      "outputs": [
        {
          "output_type": "stream",
          "text": [
            "         min        max          mean    median\n",
            "type                                           \n",
            "A    -1098.0  293966.05  23674.667242  11943.92\n",
            "B     -798.0  232558.51  25696.678370  13336.08\n",
            "     unemployment                   ... fuel_price_usd_per_l                    \n",
            "              min    max      mean  ...                  max      mean    median\n",
            "type                                ...                                         \n",
            "A           3.879  8.992  7.972611  ...             1.107410  0.744619  0.735455\n",
            "B           7.170  9.765  9.279323  ...             1.107674  0.805858  0.803348\n",
            "\n",
            "[2 rows x 8 columns]\n"
          ],
          "name": "stdout"
        }
      ]
    },
    {
      "cell_type": "code",
      "metadata": {
        "colab": {
          "base_uri": "https://localhost:8080/"
        },
        "id": "rJ_KaEjK3P7G",
        "outputId": "1dc11e45-7981-4f1c-d029-bceb983a8e60"
      },
      "source": [
        "# Pivot for mean weekly_sales for each store type\r\n",
        "mean_sales_by_type = sales.pivot_table(values=\"weekly_sales\", index=\"type\")\r\n",
        "\r\n",
        "# Print mean_sales_by_type\r\n",
        "print(mean_sales_by_type)"
      ],
      "execution_count": 28,
      "outputs": [
        {
          "output_type": "stream",
          "text": [
            "      weekly_sales\n",
            "type              \n",
            "A     23674.667242\n",
            "B     25696.678370\n"
          ],
          "name": "stdout"
        }
      ]
    },
    {
      "cell_type": "code",
      "metadata": {
        "colab": {
          "base_uri": "https://localhost:8080/"
        },
        "id": "sot1Wn4X3mt7",
        "outputId": "6c3e8d23-30e6-4ced-e834-4ee88c0f7051"
      },
      "source": [
        "# Import NumPy as np\r\n",
        "import numpy as np\r\n",
        "\r\n",
        "# Pivot for mean and median weekly_sales for each store type\r\n",
        "mean_med_sales_by_type = sales.pivot_table(values=\"weekly_sales\", index=\"type\", aggfunc=[np.mean, np.median])\r\n",
        "\r\n",
        "# Print mean_med_sales_by_type\r\n",
        "print(mean_med_sales_by_type)"
      ],
      "execution_count": 29,
      "outputs": [
        {
          "output_type": "stream",
          "text": [
            "              mean       median\n",
            "      weekly_sales weekly_sales\n",
            "type                           \n",
            "A     23674.667242     11943.92\n",
            "B     25696.678370     13336.08\n"
          ],
          "name": "stdout"
        }
      ]
    },
    {
      "cell_type": "code",
      "metadata": {
        "colab": {
          "base_uri": "https://localhost:8080/"
        },
        "id": "nUHoqM773mxA",
        "outputId": "a2db00b0-b317-4c48-ffbb-ec471d1ffd9c"
      },
      "source": [
        "# Pivot for mean weekly_sales by store type and holiday \r\n",
        "mean_sales_by_type_holiday = sales.pivot_table(values=\"weekly_sales\", index=\"type\", columns=\"is_holiday\")\r\n",
        "\r\n",
        "# Print mean_sales_by_type_holiday\r\n",
        "print(mean_sales_by_type_holiday)"
      ],
      "execution_count": 30,
      "outputs": [
        {
          "output_type": "stream",
          "text": [
            "is_holiday         False      True \n",
            "type                               \n",
            "A           23768.583523  590.04525\n",
            "B           25751.980533  810.70500\n"
          ],
          "name": "stdout"
        }
      ]
    },
    {
      "cell_type": "code",
      "metadata": {
        "colab": {
          "base_uri": "https://localhost:8080/"
        },
        "id": "PWDD7NY75b2u",
        "outputId": "2c368768-6605-4bfb-c570-8be2e1d59428"
      },
      "source": [
        "# Print mean weekly_sales by department and type; fill missing values with 0\r\n",
        "print(sales.pivot_table(values=\"weekly_sales\", index=\"type\", columns=\"department\", fill_value=0))"
      ],
      "execution_count": 31,
      "outputs": [
        {
          "output_type": "stream",
          "text": [
            "department            1              2   ...            98          99\n",
            "type                                     ...                          \n",
            "A           30961.725379   67600.158788  ...  12875.423182  379.123659\n",
            "B           44050.626667  112958.526667  ...    217.428333    0.000000\n",
            "\n",
            "[2 rows x 80 columns]\n"
          ],
          "name": "stdout"
        }
      ]
    },
    {
      "cell_type": "code",
      "metadata": {
        "colab": {
          "base_uri": "https://localhost:8080/"
        },
        "id": "UeWU6Owm5wP7",
        "outputId": "fa35a656-f717-47fe-e67e-910be6a072ee"
      },
      "source": [
        "# Print the mean weekly_sales by department and type; fill missing values with 0s; sum all rows and cols\r\n",
        "print(sales.pivot_table(values=\"weekly_sales\", index=\"department\", columns=\"type\", fill_value=0, margins=True))"
      ],
      "execution_count": 32,
      "outputs": [
        {
          "output_type": "stream",
          "text": [
            "type                   A              B           All\n",
            "department                                           \n",
            "1           30961.725379   44050.626667  32052.467153\n",
            "2           67600.158788  112958.526667  71380.022778\n",
            "3           17160.002955   30580.655000  18278.390625\n",
            "4           44285.399091   51219.654167  44863.253681\n",
            "5           34821.011364   63236.875000  37189.000000\n",
            "...                  ...            ...           ...\n",
            "96          21367.042857    9528.538333  20337.607681\n",
            "97          28471.266970    5828.873333  26584.400833\n",
            "98          12875.423182     217.428333  11820.590278\n",
            "99            379.123659       0.000000    379.123659\n",
            "All         23674.667242   25696.678370  23843.950149\n",
            "\n",
            "[81 rows x 3 columns]\n"
          ],
          "name": "stdout"
        }
      ]
    },
    {
      "cell_type": "code",
      "metadata": {
        "id": "oFJ7LcHNRx1W"
      },
      "source": [
        "downloaded = drive.CreateFile({'id':\"1oXr0tYP6usKigyHPKeOzlVsaZDld9ln8\"})   # replace the id with id of file you want to access\n",
        "downloaded.GetContentFile('temperatures.csv')        # replace the file name with your file\n"
      ],
      "execution_count": 33,
      "outputs": []
    },
    {
      "cell_type": "code",
      "metadata": {
        "id": "mUEAWLA35wS5"
      },
      "source": [
        "import pandas as pd\n",
        "temperatures = pd.read_csv('temperatures.csv')"
      ],
      "execution_count": 34,
      "outputs": []
    },
    {
      "cell_type": "code",
      "metadata": {
        "colab": {
          "base_uri": "https://localhost:8080/"
        },
        "id": "kcxjn-xRSGmE",
        "outputId": "39928df6-0e9f-46ed-e9b8-f4538de982d2"
      },
      "source": [
        "# Look at temperatures\n",
        "print(temperatures)"
      ],
      "execution_count": 35,
      "outputs": [
        {
          "output_type": "stream",
          "text": [
            "       Unnamed: 0        date     city        country  avg_temp_c\n",
            "0               0  2000-01-01  Abidjan  Côte D'Ivoire      27.293\n",
            "1               1  2000-02-01  Abidjan  Côte D'Ivoire      27.685\n",
            "2               2  2000-03-01  Abidjan  Côte D'Ivoire      29.061\n",
            "3               3  2000-04-01  Abidjan  Côte D'Ivoire      28.162\n",
            "4               4  2000-05-01  Abidjan  Côte D'Ivoire      27.547\n",
            "...           ...         ...      ...            ...         ...\n",
            "16495       16495  2013-05-01     Xian          China      18.979\n",
            "16496       16496  2013-06-01     Xian          China      23.522\n",
            "16497       16497  2013-07-01     Xian          China      25.251\n",
            "16498       16498  2013-08-01     Xian          China      24.528\n",
            "16499       16499  2013-09-01     Xian          China         NaN\n",
            "\n",
            "[16500 rows x 5 columns]\n"
          ],
          "name": "stdout"
        }
      ]
    },
    {
      "cell_type": "code",
      "metadata": {
        "id": "QvzqVYcySRB2"
      },
      "source": [
        "#Index temperatures by city\n",
        "temperatures_ind = temperatures.set_index(\"city\")"
      ],
      "execution_count": 36,
      "outputs": []
    },
    {
      "cell_type": "code",
      "metadata": {
        "colab": {
          "base_uri": "https://localhost:8080/"
        },
        "id": "CjdsFWVKSjzR",
        "outputId": "d2bfa505-7f96-4958-d759-77bc59d349c7"
      },
      "source": [
        "# Look at temperatures_ind\n",
        "print(temperatures_ind)"
      ],
      "execution_count": 37,
      "outputs": [
        {
          "output_type": "stream",
          "text": [
            "         Unnamed: 0        date        country  avg_temp_c\n",
            "city                                                      \n",
            "Abidjan           0  2000-01-01  Côte D'Ivoire      27.293\n",
            "Abidjan           1  2000-02-01  Côte D'Ivoire      27.685\n",
            "Abidjan           2  2000-03-01  Côte D'Ivoire      29.061\n",
            "Abidjan           3  2000-04-01  Côte D'Ivoire      28.162\n",
            "Abidjan           4  2000-05-01  Côte D'Ivoire      27.547\n",
            "...             ...         ...            ...         ...\n",
            "Xian          16495  2013-05-01          China      18.979\n",
            "Xian          16496  2013-06-01          China      23.522\n",
            "Xian          16497  2013-07-01          China      25.251\n",
            "Xian          16498  2013-08-01          China      24.528\n",
            "Xian          16499  2013-09-01          China         NaN\n",
            "\n",
            "[16500 rows x 4 columns]\n"
          ],
          "name": "stdout"
        }
      ]
    },
    {
      "cell_type": "code",
      "metadata": {
        "colab": {
          "base_uri": "https://localhost:8080/"
        },
        "id": "dXW50wztWFoZ",
        "outputId": "10a9facb-7074-43eb-8714-064a9329c4a7"
      },
      "source": [
        "temperatures.columns"
      ],
      "execution_count": 38,
      "outputs": [
        {
          "output_type": "execute_result",
          "data": {
            "text/plain": [
              "Index(['Unnamed: 0', 'date', 'city', 'country', 'avg_temp_c'], dtype='object')"
            ]
          },
          "metadata": {
            "tags": []
          },
          "execution_count": 38
        }
      ]
    },
    {
      "cell_type": "code",
      "metadata": {
        "colab": {
          "base_uri": "https://localhost:8080/"
        },
        "id": "z5qv5L5-StI9",
        "outputId": "255fdf87-80f4-4e53-a0d4-3aee87ac9236"
      },
      "source": [
        "# Reset the index, keeping its contents\n",
        "print(temperatures_ind.reset_index())"
      ],
      "execution_count": 39,
      "outputs": [
        {
          "output_type": "stream",
          "text": [
            "          city  Unnamed: 0        date        country  avg_temp_c\n",
            "0      Abidjan           0  2000-01-01  Côte D'Ivoire      27.293\n",
            "1      Abidjan           1  2000-02-01  Côte D'Ivoire      27.685\n",
            "2      Abidjan           2  2000-03-01  Côte D'Ivoire      29.061\n",
            "3      Abidjan           3  2000-04-01  Côte D'Ivoire      28.162\n",
            "4      Abidjan           4  2000-05-01  Côte D'Ivoire      27.547\n",
            "...        ...         ...         ...            ...         ...\n",
            "16495     Xian       16495  2013-05-01          China      18.979\n",
            "16496     Xian       16496  2013-06-01          China      23.522\n",
            "16497     Xian       16497  2013-07-01          China      25.251\n",
            "16498     Xian       16498  2013-08-01          China      24.528\n",
            "16499     Xian       16499  2013-09-01          China         NaN\n",
            "\n",
            "[16500 rows x 5 columns]\n"
          ],
          "name": "stdout"
        }
      ]
    },
    {
      "cell_type": "code",
      "metadata": {
        "colab": {
          "base_uri": "https://localhost:8080/"
        },
        "id": "LDcBYBSLS1Am",
        "outputId": "2eb2bb7e-9ccb-44c1-8a63-4b64669c9c35"
      },
      "source": [
        "# Reset the index, dropping its contents\n",
        "print(temperatures_ind.reset_index(drop=True))"
      ],
      "execution_count": 40,
      "outputs": [
        {
          "output_type": "stream",
          "text": [
            "       Unnamed: 0        date        country  avg_temp_c\n",
            "0               0  2000-01-01  Côte D'Ivoire      27.293\n",
            "1               1  2000-02-01  Côte D'Ivoire      27.685\n",
            "2               2  2000-03-01  Côte D'Ivoire      29.061\n",
            "3               3  2000-04-01  Côte D'Ivoire      28.162\n",
            "4               4  2000-05-01  Côte D'Ivoire      27.547\n",
            "...           ...         ...            ...         ...\n",
            "16495       16495  2013-05-01          China      18.979\n",
            "16496       16496  2013-06-01          China      23.522\n",
            "16497       16497  2013-07-01          China      25.251\n",
            "16498       16498  2013-08-01          China      24.528\n",
            "16499       16499  2013-09-01          China         NaN\n",
            "\n",
            "[16500 rows x 4 columns]\n"
          ],
          "name": "stdout"
        }
      ]
    },
    {
      "cell_type": "code",
      "metadata": {
        "colab": {
          "base_uri": "https://localhost:8080/"
        },
        "id": "HM6xL4cYA2TL",
        "outputId": "2f22732c-bc49-4d06-e4fe-e0af66d92d0a"
      },
      "source": [
        "# Make a list of cities to subset on\r\n",
        "cities = [\"Moscow\", \"Saint Petersburg\"]\r\n",
        "\r\n",
        "# Subset temperatures using square brackets\r\n",
        "print(temperatures[temperatures[\"city\"].isin(cities)])\r\n",
        "\r\n",
        "# Subset temperatures_ind using .loc[]\r\n",
        "print(temperatures_ind.loc[cities])"
      ],
      "execution_count": 41,
      "outputs": [
        {
          "output_type": "stream",
          "text": [
            "       Unnamed: 0        date              city country  avg_temp_c\n",
            "10725       10725  2000-01-01            Moscow  Russia      -7.313\n",
            "10726       10726  2000-02-01            Moscow  Russia      -3.551\n",
            "10727       10727  2000-03-01            Moscow  Russia      -1.661\n",
            "10728       10728  2000-04-01            Moscow  Russia      10.096\n",
            "10729       10729  2000-05-01            Moscow  Russia      10.357\n",
            "...           ...         ...               ...     ...         ...\n",
            "13360       13360  2013-05-01  Saint Petersburg  Russia      12.355\n",
            "13361       13361  2013-06-01  Saint Petersburg  Russia      17.185\n",
            "13362       13362  2013-07-01  Saint Petersburg  Russia      17.234\n",
            "13363       13363  2013-08-01  Saint Petersburg  Russia      17.153\n",
            "13364       13364  2013-09-01  Saint Petersburg  Russia         NaN\n",
            "\n",
            "[330 rows x 5 columns]\n",
            "                  Unnamed: 0        date country  avg_temp_c\n",
            "city                                                        \n",
            "Moscow                 10725  2000-01-01  Russia      -7.313\n",
            "Moscow                 10726  2000-02-01  Russia      -3.551\n",
            "Moscow                 10727  2000-03-01  Russia      -1.661\n",
            "Moscow                 10728  2000-04-01  Russia      10.096\n",
            "Moscow                 10729  2000-05-01  Russia      10.357\n",
            "...                      ...         ...     ...         ...\n",
            "Saint Petersburg       13360  2013-05-01  Russia      12.355\n",
            "Saint Petersburg       13361  2013-06-01  Russia      17.185\n",
            "Saint Petersburg       13362  2013-07-01  Russia      17.234\n",
            "Saint Petersburg       13363  2013-08-01  Russia      17.153\n",
            "Saint Petersburg       13364  2013-09-01  Russia         NaN\n",
            "\n",
            "[330 rows x 4 columns]\n"
          ],
          "name": "stdout"
        }
      ]
    },
    {
      "cell_type": "code",
      "metadata": {
        "colab": {
          "base_uri": "https://localhost:8080/"
        },
        "id": "VVmJsbLREq3m",
        "outputId": "31e6e225-eb6a-4f76-ec51-09a3df1dd6b3"
      },
      "source": [
        "# Index temperatures by country & city\r\n",
        "temperatures_ind = temperatures.set_index([\"country\", \"city\"])\r\n",
        "\r\n",
        "# List of tuples: Brazil, Rio De Janeiro & Pakistan, Lahore\r\n",
        "rows_to_keep = [(\"Brazil\", \"Rio De Janeiro\"), (\"Pakistan\", \"Lahore\")]\r\n",
        "\r\n",
        "# Subset for rows to keep\r\n",
        "print(temperatures_ind.loc[rows_to_keep])"
      ],
      "execution_count": 42,
      "outputs": [
        {
          "output_type": "stream",
          "text": [
            "                         Unnamed: 0        date  avg_temp_c\n",
            "country  city                                              \n",
            "Brazil   Rio De Janeiro       12540  2000-01-01      25.974\n",
            "         Rio De Janeiro       12541  2000-02-01      26.699\n",
            "         Rio De Janeiro       12542  2000-03-01      26.270\n",
            "         Rio De Janeiro       12543  2000-04-01      25.750\n",
            "         Rio De Janeiro       12544  2000-05-01      24.356\n",
            "...                             ...         ...         ...\n",
            "Pakistan Lahore                8575  2013-05-01      33.457\n",
            "         Lahore                8576  2013-06-01      34.456\n",
            "         Lahore                8577  2013-07-01      33.279\n",
            "         Lahore                8578  2013-08-01      31.511\n",
            "         Lahore                8579  2013-09-01         NaN\n",
            "\n",
            "[330 rows x 3 columns]\n"
          ],
          "name": "stdout"
        }
      ]
    },
    {
      "cell_type": "code",
      "metadata": {
        "colab": {
          "base_uri": "https://localhost:8080/"
        },
        "id": "1bFWA6INE_fH",
        "outputId": "0ad57f5f-53de-4cca-c237-4eddd5568988"
      },
      "source": [
        "# Sort temperatures_ind by index values\r\n",
        "print(temperatures_ind.sort_index())\r\n",
        "\r\n",
        "# Sort temperatures_ind by index values at the city level\r\n",
        "print(temperatures_ind.sort_index(level=\"city\"))\r\n",
        "\r\n",
        "# Sort temperatures_ind by country then descending city\r\n",
        "print(temperatures_ind.sort_index(level=[\"country\", \"city\"], ascending=[True, False]))"
      ],
      "execution_count": 43,
      "outputs": [
        {
          "output_type": "stream",
          "text": [
            "                    Unnamed: 0        date  avg_temp_c\n",
            "country     city                                      \n",
            "Afghanistan Kabul         7260  2000-01-01       3.326\n",
            "            Kabul         7261  2000-02-01       3.454\n",
            "            Kabul         7262  2000-03-01       9.612\n",
            "            Kabul         7263  2000-04-01      17.925\n",
            "            Kabul         7264  2000-05-01      24.658\n",
            "...                        ...         ...         ...\n",
            "Zimbabwe    Harare        5605  2013-05-01      18.298\n",
            "            Harare        5606  2013-06-01      17.020\n",
            "            Harare        5607  2013-07-01      16.299\n",
            "            Harare        5608  2013-08-01      19.232\n",
            "            Harare        5609  2013-09-01         NaN\n",
            "\n",
            "[16500 rows x 3 columns]\n",
            "                       Unnamed: 0        date  avg_temp_c\n",
            "country       city                                       \n",
            "Côte D'Ivoire Abidjan           0  2000-01-01      27.293\n",
            "              Abidjan           1  2000-02-01      27.685\n",
            "              Abidjan           2  2000-03-01      29.061\n",
            "              Abidjan           3  2000-04-01      28.162\n",
            "              Abidjan           4  2000-05-01      27.547\n",
            "...                           ...         ...         ...\n",
            "China         Xian          16495  2013-05-01      18.979\n",
            "              Xian          16496  2013-06-01      23.522\n",
            "              Xian          16497  2013-07-01      25.251\n",
            "              Xian          16498  2013-08-01      24.528\n",
            "              Xian          16499  2013-09-01         NaN\n",
            "\n",
            "[16500 rows x 3 columns]\n",
            "                    Unnamed: 0        date  avg_temp_c\n",
            "country     city                                      \n",
            "Afghanistan Kabul         7260  2000-01-01       3.326\n",
            "            Kabul         7261  2000-02-01       3.454\n",
            "            Kabul         7262  2000-03-01       9.612\n",
            "            Kabul         7263  2000-04-01      17.925\n",
            "            Kabul         7264  2000-05-01      24.658\n",
            "...                        ...         ...         ...\n",
            "Zimbabwe    Harare        5605  2013-05-01      18.298\n",
            "            Harare        5606  2013-06-01      17.020\n",
            "            Harare        5607  2013-07-01      16.299\n",
            "            Harare        5608  2013-08-01      19.232\n",
            "            Harare        5609  2013-09-01         NaN\n",
            "\n",
            "[16500 rows x 3 columns]\n"
          ],
          "name": "stdout"
        }
      ]
    },
    {
      "cell_type": "code",
      "metadata": {
        "colab": {
          "base_uri": "https://localhost:8080/"
        },
        "id": "iLwWZY-yE_h3",
        "outputId": "7a311dce-c6ca-4d5f-e5f0-3297db06ca3d"
      },
      "source": [
        "# Sort the index of temperatures_ind\r\n",
        "temperatures_srt = temperatures_ind.sort_index()\r\n",
        "\r\n",
        "# Subset rows from Pakistan to Russia\r\n",
        "print(temperatures_srt.loc[\"Pakistan\":\"Russia\"])\r\n",
        "\r\n",
        "# Try to subset rows from Lahore to Moscow\r\n",
        "print(temperatures_srt.loc[\"Lahore\":\"Moscow\"])\r\n",
        "\r\n",
        "# Subset rows from Pakistan, Lahore to Russia, Moscow\r\n",
        "print(temperatures_srt.loc[(\"Pakistan\", \"Lahore\"):(\"Russia\", \"Moscow\")])"
      ],
      "execution_count": 44,
      "outputs": [
        {
          "output_type": "stream",
          "text": [
            "                           Unnamed: 0        date  avg_temp_c\n",
            "country  city                                                \n",
            "Pakistan Faisalabad              4785  2000-01-01      12.792\n",
            "         Faisalabad              4786  2000-02-01      14.339\n",
            "         Faisalabad              4787  2000-03-01      20.309\n",
            "         Faisalabad              4788  2000-04-01      29.072\n",
            "         Faisalabad              4789  2000-05-01      34.845\n",
            "...                               ...         ...         ...\n",
            "Russia   Saint Petersburg       13360  2013-05-01      12.355\n",
            "         Saint Petersburg       13361  2013-06-01      17.185\n",
            "         Saint Petersburg       13362  2013-07-01      17.234\n",
            "         Saint Petersburg       13363  2013-08-01      17.153\n",
            "         Saint Petersburg       13364  2013-09-01         NaN\n",
            "\n",
            "[1155 rows x 3 columns]\n",
            "                    Unnamed: 0        date  avg_temp_c\n",
            "country city                                          \n",
            "Mexico  Mexico           10230  2000-01-01      12.694\n",
            "        Mexico           10231  2000-02-01      14.677\n",
            "        Mexico           10232  2000-03-01      17.376\n",
            "        Mexico           10233  2000-04-01      18.294\n",
            "        Mexico           10234  2000-05-01      18.562\n",
            "...                        ...         ...         ...\n",
            "Morocco Casablanca        3130  2013-05-01      19.217\n",
            "        Casablanca        3131  2013-06-01      23.649\n",
            "        Casablanca        3132  2013-07-01      27.488\n",
            "        Casablanca        3133  2013-08-01      27.952\n",
            "        Casablanca        3134  2013-09-01         NaN\n",
            "\n",
            "[330 rows x 3 columns]\n",
            "                 Unnamed: 0        date  avg_temp_c\n",
            "country  city                                      \n",
            "Pakistan Lahore        8415  2000-01-01      12.792\n",
            "         Lahore        8416  2000-02-01      14.339\n",
            "         Lahore        8417  2000-03-01      20.309\n",
            "         Lahore        8418  2000-04-01      29.072\n",
            "         Lahore        8419  2000-05-01      34.845\n",
            "...                     ...         ...         ...\n",
            "Russia   Moscow       10885  2013-05-01      16.152\n",
            "         Moscow       10886  2013-06-01      18.718\n",
            "         Moscow       10887  2013-07-01      18.136\n",
            "         Moscow       10888  2013-08-01      17.485\n",
            "         Moscow       10889  2013-09-01         NaN\n",
            "\n",
            "[660 rows x 3 columns]\n"
          ],
          "name": "stdout"
        }
      ]
    },
    {
      "cell_type": "code",
      "metadata": {
        "id": "clqgtpVLyNTs",
        "colab": {
          "base_uri": "https://localhost:8080/"
        },
        "outputId": "28c71c30-c2ef-4d74-bd5e-8a1c1b52ac9b"
      },
      "source": [
        "# Subset rows from India, Hyderabad to Iraq, Baghdad\r\n",
        "print(temperatures_srt.loc[(\"India\", \"Hyderabad\"):(\"Iraq\", \"Baghdad\")])\r\n",
        "\r\n",
        "# Subset columns from date to avg_temp_c\r\n",
        "print(temperatures_srt.loc[:,\"date\":\"avg_temp_c\"])\r\n",
        "\r\n",
        "# Subset in both directions at once\r\n",
        "print(temperatures_srt.loc[(\"India\",\"Hyderabad\"):(\"Iraq\",\"Baghdad\"), \"date\":\"avg_temp_c\"])"
      ],
      "execution_count": 45,
      "outputs": [
        {
          "output_type": "stream",
          "text": [
            "                   Unnamed: 0        date  avg_temp_c\n",
            "country city                                         \n",
            "India   Hyderabad        5940  2000-01-01      23.779\n",
            "        Hyderabad        5941  2000-02-01      25.826\n",
            "        Hyderabad        5942  2000-03-01      28.821\n",
            "        Hyderabad        5943  2000-04-01      32.698\n",
            "        Hyderabad        5944  2000-05-01      32.438\n",
            "...                       ...         ...         ...\n",
            "Iraq    Baghdad          1150  2013-05-01      28.673\n",
            "        Baghdad          1151  2013-06-01      33.803\n",
            "        Baghdad          1152  2013-07-01      36.392\n",
            "        Baghdad          1153  2013-08-01      35.463\n",
            "        Baghdad          1154  2013-09-01         NaN\n",
            "\n",
            "[2145 rows x 3 columns]\n",
            "                          date  avg_temp_c\n",
            "country     city                          \n",
            "Afghanistan Kabul   2000-01-01       3.326\n",
            "            Kabul   2000-02-01       3.454\n",
            "            Kabul   2000-03-01       9.612\n",
            "            Kabul   2000-04-01      17.925\n",
            "            Kabul   2000-05-01      24.658\n",
            "...                        ...         ...\n",
            "Zimbabwe    Harare  2013-05-01      18.298\n",
            "            Harare  2013-06-01      17.020\n",
            "            Harare  2013-07-01      16.299\n",
            "            Harare  2013-08-01      19.232\n",
            "            Harare  2013-09-01         NaN\n",
            "\n",
            "[16500 rows x 2 columns]\n",
            "                         date  avg_temp_c\n",
            "country city                             \n",
            "India   Hyderabad  2000-01-01      23.779\n",
            "        Hyderabad  2000-02-01      25.826\n",
            "        Hyderabad  2000-03-01      28.821\n",
            "        Hyderabad  2000-04-01      32.698\n",
            "        Hyderabad  2000-05-01      32.438\n",
            "...                       ...         ...\n",
            "Iraq    Baghdad    2013-05-01      28.673\n",
            "        Baghdad    2013-06-01      33.803\n",
            "        Baghdad    2013-07-01      36.392\n",
            "        Baghdad    2013-08-01      35.463\n",
            "        Baghdad    2013-09-01         NaN\n",
            "\n",
            "[2145 rows x 2 columns]\n"
          ],
          "name": "stdout"
        }
      ]
    },
    {
      "cell_type": "code",
      "metadata": {
        "colab": {
          "base_uri": "https://localhost:8080/"
        },
        "id": "C-ZFvkcN9ctQ",
        "outputId": "e32c2d75-49fb-4744-d0a7-b0a7e1f6f8c7"
      },
      "source": [
        "# Use Boolean conditions to subset temperatures for rows in 2010 and 2011\n",
        "temperatures_bool = temperatures[(temperatures[\"date\"] >= \"2010-01-01\") & (temperatures[\"date\"] <= \"2011-12-31\")]\n",
        "print(temperatures_bool)\n",
        "\n",
        "# Set date as an index and sort the index\n",
        "temperatures_ind = temperatures.set_index(\"date\").sort_index()\n",
        "\n",
        "# Use .loc[] to subset temperatures_ind for rows in 2010 and 2011\n",
        "print(temperatures_ind.loc[\"2010\":\"2011\"])\n",
        "\n",
        "# Use .loc[] to subset temperatures_ind for rows from Aug 2010 to Feb 2011\n",
        "print(temperatures_ind.loc[\"2010-08\":\"2011-02\"])"
      ],
      "execution_count": 46,
      "outputs": [
        {
          "output_type": "stream",
          "text": [
            "       Unnamed: 0        date     city        country  avg_temp_c\n",
            "120           120  2010-01-01  Abidjan  Côte D'Ivoire      28.270\n",
            "121           121  2010-02-01  Abidjan  Côte D'Ivoire      29.262\n",
            "122           122  2010-03-01  Abidjan  Côte D'Ivoire      29.596\n",
            "123           123  2010-04-01  Abidjan  Côte D'Ivoire      29.068\n",
            "124           124  2010-05-01  Abidjan  Côte D'Ivoire      28.258\n",
            "...           ...         ...      ...            ...         ...\n",
            "16474       16474  2011-08-01     Xian          China      23.069\n",
            "16475       16475  2011-09-01     Xian          China      16.775\n",
            "16476       16476  2011-10-01     Xian          China      12.587\n",
            "16477       16477  2011-11-01     Xian          China       7.543\n",
            "16478       16478  2011-12-01     Xian          China      -0.490\n",
            "\n",
            "[2400 rows x 5 columns]\n",
            "            Unnamed: 0        city    country  avg_temp_c\n",
            "date                                                     \n",
            "2010-01-01        4905  Faisalabad   Pakistan      11.810\n",
            "2010-01-01       10185   Melbourne  Australia      20.016\n",
            "2010-01-01        3750   Chongqing      China       7.921\n",
            "2010-01-01       13155   São Paulo     Brazil      23.738\n",
            "2010-01-01        5400   Guangzhou      China      14.136\n",
            "...                ...         ...        ...         ...\n",
            "2010-12-01        6896     Jakarta  Indonesia      26.602\n",
            "2010-12-01        5246       Gizeh      Egypt      16.530\n",
            "2010-12-01       11186      Nagpur      India      19.120\n",
            "2010-12-01       14981      Sydney  Australia      19.559\n",
            "2010-12-01       13496    Salvador     Brazil      26.265\n",
            "\n",
            "[1200 rows x 4 columns]\n",
            "            Unnamed: 0           city        country  avg_temp_c\n",
            "date                                                            \n",
            "2010-08-01        2602       Calcutta          India      30.226\n",
            "2010-08-01       12337           Pune          India      24.941\n",
            "2010-08-01        6562          Izmir         Turkey      28.352\n",
            "2010-08-01       15637        Tianjin          China      25.543\n",
            "2010-08-01        9862         Manila    Philippines      27.101\n",
            "...                ...            ...            ...         ...\n",
            "2011-01-01        4257  Dar Es Salaam       Tanzania      28.541\n",
            "2011-01-01       11352        Nairobi          Kenya      17.768\n",
            "2011-01-01         297    Addis Abeba       Ethiopia      17.708\n",
            "2011-01-01       11517        Nanjing          China       0.144\n",
            "2011-01-01       11847       New York  United States      -4.463\n",
            "\n",
            "[600 rows x 4 columns]\n"
          ],
          "name": "stdout"
        }
      ]
    },
    {
      "cell_type": "code",
      "metadata": {
        "colab": {
          "base_uri": "https://localhost:8080/"
        },
        "id": "Rp9D47PXDYhl",
        "outputId": "35f86032-b4eb-4754-b1c6-3f02fd563c6d"
      },
      "source": [
        "# Get 23rd row, 2nd column (index 22, 1)\n",
        "print(temperatures.iloc[22, 1])\n",
        "\n",
        "# Use slicing to get the first 5 rows\n",
        "print(temperatures.iloc[0:5,])\n",
        "\n",
        "# Use slicing to get columns 3 to 4\n",
        "print(temperatures.iloc[:, 2:4])\n",
        "\n",
        "# Use slicing in both directions at once\n",
        "print(temperatures.iloc[0:5, 2:4])"
      ],
      "execution_count": 47,
      "outputs": [
        {
          "output_type": "stream",
          "text": [
            "2001-11-01\n",
            "   Unnamed: 0        date     city        country  avg_temp_c\n",
            "0           0  2000-01-01  Abidjan  Côte D'Ivoire      27.293\n",
            "1           1  2000-02-01  Abidjan  Côte D'Ivoire      27.685\n",
            "2           2  2000-03-01  Abidjan  Côte D'Ivoire      29.061\n",
            "3           3  2000-04-01  Abidjan  Côte D'Ivoire      28.162\n",
            "4           4  2000-05-01  Abidjan  Côte D'Ivoire      27.547\n",
            "          city        country\n",
            "0      Abidjan  Côte D'Ivoire\n",
            "1      Abidjan  Côte D'Ivoire\n",
            "2      Abidjan  Côte D'Ivoire\n",
            "3      Abidjan  Côte D'Ivoire\n",
            "4      Abidjan  Côte D'Ivoire\n",
            "...        ...            ...\n",
            "16495     Xian          China\n",
            "16496     Xian          China\n",
            "16497     Xian          China\n",
            "16498     Xian          China\n",
            "16499     Xian          China\n",
            "\n",
            "[16500 rows x 2 columns]\n",
            "      city        country\n",
            "0  Abidjan  Côte D'Ivoire\n",
            "1  Abidjan  Côte D'Ivoire\n",
            "2  Abidjan  Côte D'Ivoire\n",
            "3  Abidjan  Côte D'Ivoire\n",
            "4  Abidjan  Côte D'Ivoire\n"
          ],
          "name": "stdout"
        }
      ]
    },
    {
      "cell_type": "code",
      "metadata": {
        "colab": {
          "base_uri": "https://localhost:8080/"
        },
        "id": "P9cksymc5PAQ",
        "outputId": "777ade23-c149-4cbf-f869-a3eed827a29c"
      },
      "source": [
        "temperatures.info()\r\n",
        "print(temperatures.head())\r\n",
        "temperatures['date'] = pd.to_datetime(temperatures['date'])"
      ],
      "execution_count": 48,
      "outputs": [
        {
          "output_type": "stream",
          "text": [
            "<class 'pandas.core.frame.DataFrame'>\n",
            "RangeIndex: 16500 entries, 0 to 16499\n",
            "Data columns (total 5 columns):\n",
            " #   Column      Non-Null Count  Dtype  \n",
            "---  ------      --------------  -----  \n",
            " 0   Unnamed: 0  16500 non-null  int64  \n",
            " 1   date        16500 non-null  object \n",
            " 2   city        16500 non-null  object \n",
            " 3   country     16500 non-null  object \n",
            " 4   avg_temp_c  16407 non-null  float64\n",
            "dtypes: float64(1), int64(1), object(3)\n",
            "memory usage: 644.7+ KB\n",
            "   Unnamed: 0        date     city        country  avg_temp_c\n",
            "0           0  2000-01-01  Abidjan  Côte D'Ivoire      27.293\n",
            "1           1  2000-02-01  Abidjan  Côte D'Ivoire      27.685\n",
            "2           2  2000-03-01  Abidjan  Côte D'Ivoire      29.061\n",
            "3           3  2000-04-01  Abidjan  Côte D'Ivoire      28.162\n",
            "4           4  2000-05-01  Abidjan  Côte D'Ivoire      27.547\n"
          ],
          "name": "stdout"
        }
      ]
    },
    {
      "cell_type": "code",
      "metadata": {
        "colab": {
          "base_uri": "https://localhost:8080/"
        },
        "id": "HLprIX_wGsJk",
        "outputId": "450c5913-8aed-49d6-b3b2-86debe04e29f"
      },
      "source": [
        "# Add a year column to temperatures\n",
        "temperatures[\"year\"] = temperatures[\"date\"].dt.year\n",
        "\n",
        "# Pivot avg_temp_c by country and city vs year\n",
        "temp_by_country_city_vs_year = temperatures.pivot_table(\"avg_temp_c\", index=[\"country\", \"city\"], columns = \"year\")\n",
        "\n",
        "# See the result\n",
        "print(temp_by_country_city_vs_year)"
      ],
      "execution_count": 49,
      "outputs": [
        {
          "output_type": "stream",
          "text": [
            "year                                 2000       2001  ...       2012       2013\n",
            "country       city                                    ...                      \n",
            "Afghanistan   Kabul             15.822667  15.847917  ...  14.510333  16.206125\n",
            "Angola        Luanda            24.410333  24.427083  ...  24.240083  24.553875\n",
            "Australia     Melbourne         14.320083  14.180000  ...  14.268667  14.741500\n",
            "              Sydney            17.567417  17.854500  ...  17.474333  18.089750\n",
            "Bangladesh    Dhaka             25.905250  25.931250  ...  26.283583  26.587000\n",
            "...                                   ...        ...  ...        ...        ...\n",
            "United States Chicago           11.089667  11.703083  ...  12.821250  11.586889\n",
            "              Los Angeles       16.643333  16.466250  ...  17.089583  18.120667\n",
            "              New York           9.969083  10.931000  ...  11.971500  12.163889\n",
            "Vietnam       Ho Chi Minh City  27.588917  27.831750  ...  28.248750  28.455000\n",
            "Zimbabwe      Harare            20.283667  20.861000  ...  20.523333  19.756500\n",
            "\n",
            "[100 rows x 14 columns]\n"
          ],
          "name": "stdout"
        }
      ]
    },
    {
      "cell_type": "code",
      "metadata": {
        "colab": {
          "base_uri": "https://localhost:8080/",
          "height": 1000
        },
        "id": "BlAWBZRfIDgJ",
        "outputId": "71a21970-689f-471e-e2a0-1886d6bedde9"
      },
      "source": [
        "# Subset for Egypt to India\r\n",
        "print(temp_by_country_city_vs_year.loc[(\"Egypt\"):(\"India\")])\r\n",
        "\r\n",
        "# Subset for Egypt, Cairo to India, Delhi\r\n",
        "print(temp_by_country_city_vs_year.loc[(\"Egypt\", \"Cairo\"):(\"India\", \"Delhi\")])\r\n",
        "\r\n",
        "# Subset in both directions at once\r\n",
        "temp_by_country_city_vs_year.loc[(\"Egypt\", \"Cairo\"):(\"India\", \"Delhi\"), (\"2005\"):(\"2010\")]"
      ],
      "execution_count": 50,
      "outputs": [
        {
          "output_type": "stream",
          "text": [
            "year                       2000       2001  ...       2012       2013\n",
            "country  city                               ...                      \n",
            "Egypt    Alexandria   20.744500  21.454583  ...  21.552583  21.438500\n",
            "         Cairo        21.486167  22.330833  ...  22.484250  22.907000\n",
            "         Gizeh        21.486167  22.330833  ...  22.484250  22.907000\n",
            "Ethiopia Addis Abeba  18.241250  18.296417  ...  18.448583  19.539000\n",
            "France   Paris        11.739667  11.371250  ...  11.219917  11.011625\n",
            "Germany  Berlin       10.963667   9.690250  ...   9.964333  10.121500\n",
            "India    Ahmadabad    27.436000  27.198083  ...  27.027250  27.608625\n",
            "         Bangalore    25.337917  25.528167  ...  26.042333  26.610500\n",
            "         Bombay       27.203667  27.243667  ...  27.192500  26.713000\n",
            "         Calcutta     26.491333  26.515167  ...  26.935083  27.369250\n",
            "         Delhi        26.048333  25.862917  ...  25.889417  26.709250\n",
            "         Hyderabad    27.231833  27.555167  ...  28.018583  28.851250\n",
            "         Jaipur       26.430250  26.023000  ...  25.884500  26.844125\n",
            "         Kanpur       25.353917  25.326500  ...  25.445417  26.121250\n",
            "         Lakhnau      25.353917  25.326500  ...  25.445417  26.121250\n",
            "         Madras       28.811667  29.162917  ...  29.778417  30.411750\n",
            "         Nagpur       26.181417  26.321667  ...  26.327917  27.112375\n",
            "         New Delhi    26.048333  25.862917  ...  25.889417  26.709250\n",
            "         Pune         25.110917  25.337833  ...  25.296833  25.847625\n",
            "         Surat        27.029000  26.897250  ...  26.889250  27.437750\n",
            "\n",
            "[20 rows x 14 columns]\n",
            "year                       2000       2001  ...       2012       2013\n",
            "country  city                               ...                      \n",
            "Egypt    Cairo        21.486167  22.330833  ...  22.484250  22.907000\n",
            "         Gizeh        21.486167  22.330833  ...  22.484250  22.907000\n",
            "Ethiopia Addis Abeba  18.241250  18.296417  ...  18.448583  19.539000\n",
            "France   Paris        11.739667  11.371250  ...  11.219917  11.011625\n",
            "Germany  Berlin       10.963667   9.690250  ...   9.964333  10.121500\n",
            "India    Ahmadabad    27.436000  27.198083  ...  27.027250  27.608625\n",
            "         Bangalore    25.337917  25.528167  ...  26.042333  26.610500\n",
            "         Bombay       27.203667  27.243667  ...  27.192500  26.713000\n",
            "         Calcutta     26.491333  26.515167  ...  26.935083  27.369250\n",
            "         Delhi        26.048333  25.862917  ...  25.889417  26.709250\n",
            "\n",
            "[10 rows x 14 columns]\n"
          ],
          "name": "stdout"
        },
        {
          "output_type": "execute_result",
          "data": {
            "text/html": [
              "<div>\n",
              "<style scoped>\n",
              "    .dataframe tbody tr th:only-of-type {\n",
              "        vertical-align: middle;\n",
              "    }\n",
              "\n",
              "    .dataframe tbody tr th {\n",
              "        vertical-align: top;\n",
              "    }\n",
              "\n",
              "    .dataframe thead th {\n",
              "        text-align: right;\n",
              "    }\n",
              "</style>\n",
              "<table border=\"1\" class=\"dataframe\">\n",
              "  <thead>\n",
              "    <tr style=\"text-align: right;\">\n",
              "      <th></th>\n",
              "      <th>year</th>\n",
              "      <th>2005</th>\n",
              "      <th>2006</th>\n",
              "      <th>2007</th>\n",
              "      <th>2008</th>\n",
              "      <th>2009</th>\n",
              "      <th>2010</th>\n",
              "    </tr>\n",
              "    <tr>\n",
              "      <th>country</th>\n",
              "      <th>city</th>\n",
              "      <th></th>\n",
              "      <th></th>\n",
              "      <th></th>\n",
              "      <th></th>\n",
              "      <th></th>\n",
              "      <th></th>\n",
              "    </tr>\n",
              "  </thead>\n",
              "  <tbody>\n",
              "    <tr>\n",
              "      <th rowspan=\"2\" valign=\"top\">Egypt</th>\n",
              "      <th>Cairo</th>\n",
              "      <td>22.006500</td>\n",
              "      <td>22.050000</td>\n",
              "      <td>22.361000</td>\n",
              "      <td>22.644500</td>\n",
              "      <td>22.625000</td>\n",
              "      <td>23.718250</td>\n",
              "    </tr>\n",
              "    <tr>\n",
              "      <th>Gizeh</th>\n",
              "      <td>22.006500</td>\n",
              "      <td>22.050000</td>\n",
              "      <td>22.361000</td>\n",
              "      <td>22.644500</td>\n",
              "      <td>22.625000</td>\n",
              "      <td>23.718250</td>\n",
              "    </tr>\n",
              "    <tr>\n",
              "      <th>Ethiopia</th>\n",
              "      <th>Addis Abeba</th>\n",
              "      <td>18.312833</td>\n",
              "      <td>18.427083</td>\n",
              "      <td>18.142583</td>\n",
              "      <td>18.165000</td>\n",
              "      <td>18.765333</td>\n",
              "      <td>18.298250</td>\n",
              "    </tr>\n",
              "    <tr>\n",
              "      <th>France</th>\n",
              "      <th>Paris</th>\n",
              "      <td>11.552917</td>\n",
              "      <td>11.788500</td>\n",
              "      <td>11.750833</td>\n",
              "      <td>11.278250</td>\n",
              "      <td>11.464083</td>\n",
              "      <td>10.409833</td>\n",
              "    </tr>\n",
              "    <tr>\n",
              "      <th>Germany</th>\n",
              "      <th>Berlin</th>\n",
              "      <td>9.919083</td>\n",
              "      <td>10.545333</td>\n",
              "      <td>10.883167</td>\n",
              "      <td>10.657750</td>\n",
              "      <td>10.062500</td>\n",
              "      <td>8.606833</td>\n",
              "    </tr>\n",
              "    <tr>\n",
              "      <th rowspan=\"5\" valign=\"top\">India</th>\n",
              "      <th>Ahmadabad</th>\n",
              "      <td>26.828083</td>\n",
              "      <td>27.282833</td>\n",
              "      <td>27.511167</td>\n",
              "      <td>27.048500</td>\n",
              "      <td>28.095833</td>\n",
              "      <td>28.017833</td>\n",
              "    </tr>\n",
              "    <tr>\n",
              "      <th>Bangalore</th>\n",
              "      <td>25.476500</td>\n",
              "      <td>25.418250</td>\n",
              "      <td>25.464333</td>\n",
              "      <td>25.352583</td>\n",
              "      <td>25.725750</td>\n",
              "      <td>25.705250</td>\n",
              "    </tr>\n",
              "    <tr>\n",
              "      <th>Bombay</th>\n",
              "      <td>27.035750</td>\n",
              "      <td>27.381500</td>\n",
              "      <td>27.634667</td>\n",
              "      <td>27.177750</td>\n",
              "      <td>27.844500</td>\n",
              "      <td>27.765417</td>\n",
              "    </tr>\n",
              "    <tr>\n",
              "      <th>Calcutta</th>\n",
              "      <td>26.729167</td>\n",
              "      <td>26.986250</td>\n",
              "      <td>26.584583</td>\n",
              "      <td>26.522333</td>\n",
              "      <td>27.153250</td>\n",
              "      <td>27.288833</td>\n",
              "    </tr>\n",
              "    <tr>\n",
              "      <th>Delhi</th>\n",
              "      <td>25.716083</td>\n",
              "      <td>26.365917</td>\n",
              "      <td>26.145667</td>\n",
              "      <td>25.675000</td>\n",
              "      <td>26.554250</td>\n",
              "      <td>26.520250</td>\n",
              "    </tr>\n",
              "  </tbody>\n",
              "</table>\n",
              "</div>"
            ],
            "text/plain": [
              "year                       2005       2006  ...       2009       2010\n",
              "country  city                               ...                      \n",
              "Egypt    Cairo        22.006500  22.050000  ...  22.625000  23.718250\n",
              "         Gizeh        22.006500  22.050000  ...  22.625000  23.718250\n",
              "Ethiopia Addis Abeba  18.312833  18.427083  ...  18.765333  18.298250\n",
              "France   Paris        11.552917  11.788500  ...  11.464083  10.409833\n",
              "Germany  Berlin        9.919083  10.545333  ...  10.062500   8.606833\n",
              "India    Ahmadabad    26.828083  27.282833  ...  28.095833  28.017833\n",
              "         Bangalore    25.476500  25.418250  ...  25.725750  25.705250\n",
              "         Bombay       27.035750  27.381500  ...  27.844500  27.765417\n",
              "         Calcutta     26.729167  26.986250  ...  27.153250  27.288833\n",
              "         Delhi        25.716083  26.365917  ...  26.554250  26.520250\n",
              "\n",
              "[10 rows x 6 columns]"
            ]
          },
          "metadata": {
            "tags": []
          },
          "execution_count": 50
        }
      ]
    },
    {
      "cell_type": "code",
      "metadata": {
        "colab": {
          "base_uri": "https://localhost:8080/"
        },
        "id": "CvmSOnwWRPPn",
        "outputId": "bb1e84f9-89a4-43e6-c897-b48efcae6da2"
      },
      "source": [
        "# Get the worldwide mean temp by year\r\n",
        "mean_temp_by_year = temp_by_country_city_vs_year.mean()\r\n",
        "\r\n",
        "# Filter for the year that had the highest mean temp\r\n",
        "print(mean_temp_by_year[mean_temp_by_year == mean_temp_by_year.max()])\r\n",
        "\r\n",
        "# Get the mean temp by city\r\n",
        "mean_temp_by_city = temp_by_country_city_vs_year.mean(axis=\"columns\")\r\n",
        "\r\n",
        "# Filter for the city that had the lowest mean temp\r\n",
        "print(mean_temp_by_city[mean_temp_by_city == mean_temp_by_city.min()])"
      ],
      "execution_count": 51,
      "outputs": [
        {
          "output_type": "stream",
          "text": [
            "year\n",
            "2013    20.312285\n",
            "dtype: float64\n",
            "country  city  \n",
            "China    Harbin    4.876551\n",
            "dtype: float64\n"
          ],
          "name": "stdout"
        }
      ]
    }
  ]
}